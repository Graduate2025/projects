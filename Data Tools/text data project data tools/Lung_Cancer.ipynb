{
  "cells": [
    {
      "cell_type": "markdown",
      "id": "AflJV5JEdDKm",
      "metadata": {
        "id": "AflJV5JEdDKm"
      },
      "source": [
        "# Data Science Tools Project on Lung Cancer dataset"
      ]
    },
    {
      "cell_type": "markdown",
      "id": "AwJRRNGkdMhl",
      "metadata": {
        "id": "AwJRRNGkdMhl"
      },
      "source": [
        "### First we load the data from the github repository (VCS)"
      ]
    },
    {
      "cell_type": "code",
      "execution_count": 1,
      "id": "ND6LIcOEK288",
      "metadata": {
        "colab": {
          "base_uri": "https://localhost:8080/"
        },
        "collapsed": true,
        "id": "ND6LIcOEK288",
        "outputId": "5d720851-b2e8-4140-acb8-d43025d9497b"
      },
      "outputs": [],
      "source": [
        "# ! git clone https://github.com/MarwanAshraf03/Data_Science_Tools.git\n",
        "# %cd Data_Science_Tools/Text\\ Data\\ Project/"
      ]
    },
    {
      "cell_type": "markdown",
      "id": "4d1yZtCCdaHV",
      "metadata": {
        "id": "4d1yZtCCdaHV"
      },
      "source": [
        "### Import needed libraries"
      ]
    },
    {
      "cell_type": "code",
      "execution_count": 2,
      "id": "5530d3aa",
      "metadata": {
        "id": "5530d3aa"
      },
      "outputs": [],
      "source": [
        "from scipy.io import arff\n",
        "\n",
        "import pandas as pd\n",
        "\n",
        "import numpy as np \n",
        "\n",
        "import matplotlib.pyplot as plt \n",
        "\n",
        "from sklearn.decomposition import PCA\n",
        "\n",
        "from sklearn.svm import SVC\n",
        "\n",
        "from sklearn.preprocessing import OneHotEncoder\n",
        "\n",
        "from sklearn.feature_selection import SelectKBest\n",
        "from sklearn.feature_selection import f_classif\n",
        "from sklearn.model_selection import train_test_split\n",
        "\n",
        "from sklearn.ensemble import RandomForestClassifier\n",
        "\n",
        "from sklearn.preprocessing import StandardScaler\n",
        "\n",
        "from sklearn.linear_model import LogisticRegression\n",
        "\n",
        "from sklearn.cluster import KMeans\n",
        "\n",
        "from sklearn.metrics import classification_report,accuracy_score\n",
        "\n",
        "from sklearn.preprocessing import LabelEncoder\n",
        "\n",
        "from sklearn.cluster import AgglomerativeClustering\n",
        "\n",
        "import seaborn as sns\n",
        "\n",
        "import plotly.express as px\n",
        "\n",
        "from scipy.cluster.hierarchy import dendrogram, linkage"
      ]
    },
    {
      "cell_type": "markdown",
      "id": "_l4K-7cJdeL8",
      "metadata": {
        "id": "_l4K-7cJdeL8"
      },
      "source": [
        "### Read and preprocess the data"
      ]
    },
    {
      "cell_type": "code",
      "execution_count": 3,
      "id": "f3e6fcae",
      "metadata": {
        "colab": {
          "base_uri": "https://localhost:8080/"
        },
        "id": "f3e6fcae",
        "outputId": "1d72cc13-f191-4bd2-fff5-ab3caa6aa35f"
      },
      "outputs": [
        {
          "name": "stdout",
          "output_type": "stream",
          "text": [
            "     AFFX-MurIL2_at  AFFX-MurIL10_at  AFFX-MurIL4_at  AFFX-MurFAS_at  \\\n",
            "0           -18.600            10.54           0.010          19.440   \n",
            "1             9.120             9.12          10.180          29.290   \n",
            "2            -2.175            -2.21          -0.060           6.320   \n",
            "3            -1.540            21.75           5.835          23.815   \n",
            "4            -9.070             3.08          -1.980          17.260   \n",
            "..              ...              ...             ...             ...   \n",
            "198          35.140           106.16          52.280          65.340   \n",
            "199         -21.150           -31.20         -11.820           8.280   \n",
            "200          26.900            10.44          18.230          33.830   \n",
            "201          23.800            29.14          31.800          65.610   \n",
            "202         -18.370            -1.03          -8.260          27.150   \n",
            "\n",
            "     AFFX-BioB-5_at  AFFX-BioB-M_at  AFFX-BioB-3_at  AFFX-BioC-5_at  \\\n",
            "0           -16.980          -27.50          -1.600           38.88   \n",
            "1            -4.680           -1.50          -3.620           20.80   \n",
            "2            -1.775          -16.53          -3.610           16.41   \n",
            "3           -24.785          -12.89          -4.485           19.50   \n",
            "4           -10.090          -15.15         -18.190           13.21   \n",
            "..              ...             ...             ...             ...   \n",
            "198          27.790           33.50          95.540           93.09   \n",
            "199         -24.740          -29.77           3.970           21.92   \n",
            "200         -11.220           -4.29          19.970           14.77   \n",
            "201           4.240           24.69          31.800           62.94   \n",
            "202         -23.430          -32.81         -21.980            3.30   \n",
            "\n",
            "     AFFX-BioC-3_at  AFFX-BioDn-5_at  ...  101_at  102_at  103_at  104_at  \\\n",
            "0           -29.120          -42.870  ...   8.110  33.210  30.780   47.80   \n",
            "1           -13.180          -35.470  ...  15.490  27.170  26.110   45.22   \n",
            "2           -17.970          -57.020  ...  14.610  10.875  10.615   35.14   \n",
            "3           -21.445          -47.205  ...   9.615  27.355  30.860   48.71   \n",
            "4           -13.130          -39.470  ... -14.140  23.340   6.120   33.46   \n",
            "..              ...              ...  ...     ...     ...     ...     ...   \n",
            "198          14.730            1.680  ...  74.320  77.580  73.500   76.77   \n",
            "199         -31.200          -60.610  ... -16.130  11.150  -6.080   35.57   \n",
            "200         -10.350          -33.730  ...  41.630  26.900  34.700   76.30   \n",
            "201         -14.420          -48.180  ...  17.580  51.370  30.910   94.10   \n",
            "202         -24.870          -63.140  ...  -2.480  14.140  18.480   53.91   \n",
            "\n",
            "     105_at  106_at   107_at  108_g_at   109_at  type  \n",
            "0     1.630  17.020   13.780   -103.49   76.980  b'1'  \n",
            "1    10.180  69.640  -24.850    -34.41  105.730  b'1'  \n",
            "2     1.745  29.710   10.465    -42.63   73.735  b'1'  \n",
            "3    10.355  40.845   54.615    -71.38   65.435  b'1'  \n",
            "4   -10.090  40.550   16.250    -48.59   39.540  b'1'  \n",
            "..      ...     ...      ...       ...      ...   ...  \n",
            "198  48.200  71.870  143.720     41.67  118.410  b'5'  \n",
            "199  -3.210  24.070  -56.310    -43.40   65.030  b'5'  \n",
            "200   6.970  32.100  -28.540      0.04   71.970  b'5'  \n",
            "201  26.470  41.590  117.260    -36.64  135.080  b'5'  \n",
            "202  -4.640  10.530   74.170    -24.87   40.170  b'5'  \n",
            "\n",
            "[203 rows x 12601 columns]\n"
          ]
        }
      ],
      "source": [
        "data, meta = arff.loadarff(\"Lung.arff\")\n",
        "\n",
        "df = pd.DataFrame(data)\n",
        "\n",
        "print(df)\n"
      ]
    },
    {
      "cell_type": "markdown",
      "id": "Fw2AtSp5dg8c",
      "metadata": {
        "id": "Fw2AtSp5dg8c"
      },
      "source": [
        "### Check for duplicate and null data"
      ]
    },
    {
      "cell_type": "code",
      "execution_count": 4,
      "id": "5424cd9d",
      "metadata": {
        "colab": {
          "base_uri": "https://localhost:8080/"
        },
        "id": "5424cd9d",
        "outputId": "4967d1fd-a023-421b-862e-cd65e596538d"
      },
      "outputs": [
        {
          "data": {
            "text/plain": [
              "0"
            ]
          },
          "execution_count": 4,
          "metadata": {},
          "output_type": "execute_result"
        }
      ],
      "source": [
        "df.duplicated().sum()"
      ]
    },
    {
      "cell_type": "code",
      "execution_count": 5,
      "id": "2a4a79b6",
      "metadata": {
        "colab": {
          "base_uri": "https://localhost:8080/"
        },
        "id": "2a4a79b6",
        "outputId": "97389ef1-64b1-4962-ae5f-674cbc6160e5"
      },
      "outputs": [
        {
          "data": {
            "text/plain": [
              "0"
            ]
          },
          "execution_count": 5,
          "metadata": {},
          "output_type": "execute_result"
        }
      ],
      "source": [
        "df.isnull().sum().sum()"
      ]
    },
    {
      "cell_type": "markdown",
      "id": "sTELR2Hydk81",
      "metadata": {
        "id": "sTELR2Hydk81"
      },
      "source": [
        "### Count all the occurrences of each Lung Cancer category in the dataset"
      ]
    },
    {
      "cell_type": "code",
      "execution_count": 6,
      "id": "0339aba7",
      "metadata": {
        "colab": {
          "base_uri": "https://localhost:8080/"
        },
        "id": "0339aba7",
        "outputId": "06f40fa1-7406-4826-ce30-3be4f4a41e9c"
      },
      "outputs": [
        {
          "name": "stdout",
          "output_type": "stream",
          "text": [
            "{b'1': 139, b'2': 17, b'3': 6, b'4': 21, b'5': 20}\n"
          ]
        }
      ],
      "source": [
        "dicti = {}\n",
        "for i in df[:]['type']:\n",
        "    if i not in dicti.keys():\n",
        "        dicti[i] = 1\n",
        "    else:\n",
        "        dicti[i] += 1\n",
        "print(dicti)"
      ]
    },
    {
      "cell_type": "markdown",
      "id": "5tmrUK8YdsRH",
      "metadata": {
        "id": "5tmrUK8YdsRH"
      },
      "source": [
        "### Data to be used to make the model"
      ]
    },
    {
      "cell_type": "code",
      "execution_count": 7,
      "id": "7f51185b",
      "metadata": {
        "id": "7f51185b"
      },
      "outputs": [],
      "source": [
        "X = df.copy().drop('type', axis=1)\n",
        "y = df.copy()['type']"
      ]
    },
    {
      "cell_type": "code",
      "execution_count": 8,
      "id": "41a2eaf4",
      "metadata": {
        "colab": {
          "base_uri": "https://localhost:8080/"
        },
        "id": "41a2eaf4",
        "outputId": "6cef145d-e81e-4568-9853-06456f5ae3a9"
      },
      "outputs": [
        {
          "data": {
            "text/plain": [
              "array([0, 0, 0, 0, 0, 0, 0, 0, 0, 0, 0, 0, 0, 0, 0, 0, 0, 0, 0, 0, 0, 0,\n",
              "       0, 0, 0, 0, 0, 0, 0, 0, 0, 0, 0, 0, 0, 0, 0, 0, 0, 0, 0, 0, 0, 0,\n",
              "       0, 0, 0, 0, 0, 0, 0, 0, 0, 0, 0, 0, 0, 0, 0, 0, 0, 0, 0, 0, 0, 0,\n",
              "       0, 0, 0, 0, 0, 0, 0, 0, 0, 0, 0, 0, 0, 0, 0, 0, 0, 0, 0, 0, 0, 0,\n",
              "       0, 0, 0, 0, 0, 0, 0, 0, 0, 0, 0, 0, 0, 0, 0, 0, 0, 0, 0, 0, 0, 0,\n",
              "       0, 0, 0, 0, 0, 0, 0, 0, 0, 0, 0, 0, 0, 0, 0, 0, 0, 0, 0, 0, 0, 0,\n",
              "       0, 0, 0, 0, 0, 0, 0, 1, 1, 1, 1, 1, 1, 1, 1, 1, 1, 1, 1, 1, 1, 1,\n",
              "       1, 1, 2, 2, 2, 2, 2, 2, 3, 3, 3, 3, 3, 3, 3, 3, 3, 3, 3, 3, 3, 3,\n",
              "       3, 3, 3, 3, 3, 3, 3, 4, 4, 4, 4, 4, 4, 4, 4, 4, 4, 4, 4, 4, 4, 4,\n",
              "       4, 4, 4, 4, 4])"
            ]
          },
          "execution_count": 8,
          "metadata": {},
          "output_type": "execute_result"
        }
      ],
      "source": [
        "\n",
        "label_encoder = LabelEncoder()\n",
        "y_binary = label_encoder.fit_transform(y)\n",
        "y_binary\n"
      ]
    },
    {
      "cell_type": "markdown",
      "id": "uzYJrzAndw99",
      "metadata": {
        "id": "uzYJrzAndw99"
      },
      "source": [
        "### Scaling the data"
      ]
    },
    {
      "cell_type": "code",
      "execution_count": 9,
      "id": "5ea5e319",
      "metadata": {
        "id": "5ea5e319"
      },
      "outputs": [],
      "source": [
        "scale=StandardScaler()\n",
        "X_scaled=scale.fit_transform(X)\n"
      ]
    },
    {
      "cell_type": "code",
      "execution_count": 10,
      "id": "6edc8a12",
      "metadata": {
        "colab": {
          "base_uri": "https://localhost:8080/"
        },
        "id": "6edc8a12",
        "outputId": "8128c04b-dd4c-4e5d-d016-0982516f8597"
      },
      "outputs": [
        {
          "data": {
            "text/plain": [
              "(203, 12600)"
            ]
          },
          "execution_count": 10,
          "metadata": {},
          "output_type": "execute_result"
        }
      ],
      "source": [
        "X_scaled.shape"
      ]
    },
    {
      "cell_type": "markdown",
      "id": "P4mCzdPwd0jV",
      "metadata": {
        "id": "P4mCzdPwd0jV"
      },
      "source": [
        "### Split the data to training and testing datasets"
      ]
    },
    {
      "cell_type": "code",
      "execution_count": 11,
      "id": "63fb5a7f",
      "metadata": {
        "colab": {
          "base_uri": "https://localhost:8080/"
        },
        "id": "63fb5a7f",
        "outputId": "4bc83533-6af8-4461-a284-d8ede1a884e7"
      },
      "outputs": [
        {
          "data": {
            "text/plain": [
              "((121, 12600), (121,), (82, 12600), (82,))"
            ]
          },
          "execution_count": 11,
          "metadata": {},
          "output_type": "execute_result"
        }
      ],
      "source": [
        "X_train,X_test,y_train,y_test=train_test_split(X_scaled,y_binary,test_size=0.40,random_state=42,stratify=y)\n",
        "X_train.shape,y_train.shape,X_test.shape,y_test.shape"
      ]
    },
    {
      "cell_type": "code",
      "execution_count": 12,
      "id": "809d6a0a",
      "metadata": {
        "id": "809d6a0a"
      },
      "outputs": [],
      "source": [
        "X_test=pd.DataFrame(X_test)\n",
        "X_train=pd.DataFrame(X_train)"
      ]
    },
    {
      "cell_type": "markdown",
      "id": "m4f9Gna2d5M9",
      "metadata": {
        "id": "m4f9Gna2d5M9"
      },
      "source": [
        "## First filter method technique"
      ]
    },
    {
      "cell_type": "markdown",
      "id": "LCwv6kcKd-NA",
      "metadata": {
        "id": "LCwv6kcKd-NA"
      },
      "source": [
        "### We use the Random Forest Classifier to know which is the best number of features to be used to obtain the maximum support"
      ]
    },
    {
      "cell_type": "code",
      "execution_count": 13,
      "id": "eb7c76ca",
      "metadata": {
        "id": "eb7c76ca"
      },
      "outputs": [],
      "source": [
        "\n",
        "scores=[]\n",
        "\n",
        "RandomForest=RandomForestClassifier()\n",
        "\n",
        "no_of_features=[x*100 for x in range(1,120)]\n",
        "\n",
        "\n",
        "for i in no_of_features:\n",
        "\n",
        "    selector = SelectKBest(f_classif, k=i)\n",
        "\n",
        "    X_selected = selector.fit_transform(X_scaled, y)\n",
        "\n",
        "    selected_indices = selector.get_support(indices=True)\n",
        "\n",
        "    RandomForest.fit(X_train[selected_indices],y_train)\n",
        "\n",
        "    scores.append(RandomForest.score(X_test[list(selected_indices)],y_test))\n"
      ]
    },
    {
      "cell_type": "code",
      "execution_count": 14,
      "id": "ebcc5639",
      "metadata": {
        "colab": {
          "base_uri": "https://localhost:8080/"
        },
        "id": "ebcc5639",
        "outputId": "779478c1-6fc3-4013-e470-a3b11bf7e70f",
        "scrolled": false
      },
      "outputs": [
        {
          "data": {
            "text/plain": [
              "array([[1.00000000e+02, 8.90243902e-01],\n",
              "       [2.00000000e+02, 9.14634146e-01],\n",
              "       [3.00000000e+02, 9.14634146e-01],\n",
              "       [4.00000000e+02, 9.26829268e-01],\n",
              "       [5.00000000e+02, 9.14634146e-01],\n",
              "       [6.00000000e+02, 9.39024390e-01],\n",
              "       [7.00000000e+02, 9.26829268e-01],\n",
              "       [8.00000000e+02, 9.26829268e-01],\n",
              "       [9.00000000e+02, 9.14634146e-01],\n",
              "       [1.00000000e+03, 9.14634146e-01],\n",
              "       [1.10000000e+03, 9.26829268e-01],\n",
              "       [1.20000000e+03, 9.14634146e-01],\n",
              "       [1.30000000e+03, 9.02439024e-01],\n",
              "       [1.40000000e+03, 9.02439024e-01],\n",
              "       [1.50000000e+03, 9.02439024e-01],\n",
              "       [1.60000000e+03, 9.14634146e-01],\n",
              "       [1.70000000e+03, 9.14634146e-01],\n",
              "       [1.80000000e+03, 9.02439024e-01],\n",
              "       [1.90000000e+03, 9.02439024e-01],\n",
              "       [2.00000000e+03, 8.90243902e-01],\n",
              "       [2.10000000e+03, 9.02439024e-01],\n",
              "       [2.20000000e+03, 8.90243902e-01],\n",
              "       [2.30000000e+03, 8.90243902e-01],\n",
              "       [2.40000000e+03, 9.02439024e-01],\n",
              "       [2.50000000e+03, 9.02439024e-01],\n",
              "       [2.60000000e+03, 9.02439024e-01],\n",
              "       [2.70000000e+03, 9.02439024e-01],\n",
              "       [2.80000000e+03, 9.02439024e-01],\n",
              "       [2.90000000e+03, 8.90243902e-01],\n",
              "       [3.00000000e+03, 9.02439024e-01],\n",
              "       [3.10000000e+03, 8.90243902e-01],\n",
              "       [3.20000000e+03, 9.02439024e-01],\n",
              "       [3.30000000e+03, 9.02439024e-01],\n",
              "       [3.40000000e+03, 8.90243902e-01],\n",
              "       [3.50000000e+03, 9.02439024e-01],\n",
              "       [3.60000000e+03, 9.14634146e-01],\n",
              "       [3.70000000e+03, 8.90243902e-01],\n",
              "       [3.80000000e+03, 9.02439024e-01],\n",
              "       [3.90000000e+03, 9.14634146e-01],\n",
              "       [4.00000000e+03, 8.90243902e-01],\n",
              "       [4.10000000e+03, 8.90243902e-01],\n",
              "       [4.20000000e+03, 9.02439024e-01],\n",
              "       [4.30000000e+03, 8.90243902e-01],\n",
              "       [4.40000000e+03, 8.90243902e-01],\n",
              "       [4.50000000e+03, 8.90243902e-01],\n",
              "       [4.60000000e+03, 8.90243902e-01],\n",
              "       [4.70000000e+03, 8.90243902e-01],\n",
              "       [4.80000000e+03, 8.90243902e-01],\n",
              "       [4.90000000e+03, 8.90243902e-01],\n",
              "       [5.00000000e+03, 8.90243902e-01],\n",
              "       [5.10000000e+03, 9.02439024e-01],\n",
              "       [5.20000000e+03, 9.14634146e-01],\n",
              "       [5.30000000e+03, 9.02439024e-01],\n",
              "       [5.40000000e+03, 8.90243902e-01],\n",
              "       [5.50000000e+03, 8.90243902e-01],\n",
              "       [5.60000000e+03, 8.90243902e-01],\n",
              "       [5.70000000e+03, 8.90243902e-01],\n",
              "       [5.80000000e+03, 9.02439024e-01],\n",
              "       [5.90000000e+03, 9.02439024e-01],\n",
              "       [6.00000000e+03, 8.90243902e-01],\n",
              "       [6.10000000e+03, 9.14634146e-01],\n",
              "       [6.20000000e+03, 8.78048780e-01],\n",
              "       [6.30000000e+03, 8.90243902e-01],\n",
              "       [6.40000000e+03, 9.02439024e-01],\n",
              "       [6.50000000e+03, 9.02439024e-01],\n",
              "       [6.60000000e+03, 9.02439024e-01],\n",
              "       [6.70000000e+03, 8.90243902e-01],\n",
              "       [6.80000000e+03, 8.90243902e-01],\n",
              "       [6.90000000e+03, 9.02439024e-01],\n",
              "       [7.00000000e+03, 8.90243902e-01],\n",
              "       [7.10000000e+03, 9.02439024e-01],\n",
              "       [7.20000000e+03, 8.90243902e-01],\n",
              "       [7.30000000e+03, 9.02439024e-01],\n",
              "       [7.40000000e+03, 8.90243902e-01],\n",
              "       [7.50000000e+03, 9.02439024e-01],\n",
              "       [7.60000000e+03, 9.02439024e-01],\n",
              "       [7.70000000e+03, 8.90243902e-01],\n",
              "       [7.80000000e+03, 9.02439024e-01],\n",
              "       [7.90000000e+03, 8.90243902e-01],\n",
              "       [8.00000000e+03, 9.02439024e-01],\n",
              "       [8.10000000e+03, 8.90243902e-01],\n",
              "       [8.20000000e+03, 9.02439024e-01],\n",
              "       [8.30000000e+03, 8.78048780e-01],\n",
              "       [8.40000000e+03, 9.14634146e-01],\n",
              "       [8.50000000e+03, 9.02439024e-01],\n",
              "       [8.60000000e+03, 8.90243902e-01],\n",
              "       [8.70000000e+03, 9.02439024e-01],\n",
              "       [8.80000000e+03, 8.90243902e-01],\n",
              "       [8.90000000e+03, 8.90243902e-01],\n",
              "       [9.00000000e+03, 8.90243902e-01],\n",
              "       [9.10000000e+03, 8.90243902e-01],\n",
              "       [9.20000000e+03, 8.78048780e-01],\n",
              "       [9.30000000e+03, 9.14634146e-01],\n",
              "       [9.40000000e+03, 8.90243902e-01],\n",
              "       [9.50000000e+03, 9.14634146e-01],\n",
              "       [9.60000000e+03, 9.02439024e-01],\n",
              "       [9.70000000e+03, 8.90243902e-01],\n",
              "       [9.80000000e+03, 8.90243902e-01],\n",
              "       [9.90000000e+03, 8.90243902e-01],\n",
              "       [1.00000000e+04, 9.02439024e-01],\n",
              "       [1.01000000e+04, 8.78048780e-01],\n",
              "       [1.02000000e+04, 8.78048780e-01],\n",
              "       [1.03000000e+04, 8.90243902e-01],\n",
              "       [1.04000000e+04, 8.90243902e-01],\n",
              "       [1.05000000e+04, 8.78048780e-01],\n",
              "       [1.06000000e+04, 8.90243902e-01],\n",
              "       [1.07000000e+04, 8.78048780e-01],\n",
              "       [1.08000000e+04, 9.02439024e-01],\n",
              "       [1.09000000e+04, 9.14634146e-01],\n",
              "       [1.10000000e+04, 8.78048780e-01],\n",
              "       [1.11000000e+04, 8.78048780e-01],\n",
              "       [1.12000000e+04, 9.02439024e-01],\n",
              "       [1.13000000e+04, 8.78048780e-01],\n",
              "       [1.14000000e+04, 8.65853659e-01],\n",
              "       [1.15000000e+04, 8.65853659e-01],\n",
              "       [1.16000000e+04, 9.02439024e-01],\n",
              "       [1.17000000e+04, 8.90243902e-01],\n",
              "       [1.18000000e+04, 8.90243902e-01],\n",
              "       [1.19000000e+04, 8.78048780e-01]])"
            ]
          },
          "execution_count": 14,
          "metadata": {},
          "output_type": "execute_result"
        }
      ],
      "source": [
        "socre_per_features=[i for i in zip(no_of_features,scores)]\n",
        "socre_per_features=np.array(socre_per_features)\n",
        "socre_per_features"
      ]
    },
    {
      "cell_type": "code",
      "execution_count": 15,
      "id": "281bbe59",
      "metadata": {
        "colab": {
          "base_uri": "https://localhost:8080/"
        },
        "id": "281bbe59",
        "outputId": "1192ea60-cc29-4c35-e626-f4d8b58eb385"
      },
      "outputs": [
        {
          "name": "stdout",
          "output_type": "stream",
          "text": [
            "600 is the best number of feature based on f_classif feature selection technique technique with  0.939 accuracy using RandomForest model\n"
          ]
        }
      ],
      "source": [
        "\n",
        "best_no_of_features_values = max(socre_per_features, key=lambda x: x[1])\n",
        "\n",
        "best_no_of_features=int(best_no_of_features_values[0])\n",
        "highest_accuracy=best_no_of_features_values[1]\n",
        "print(f\"{best_no_of_features} is the best number of feature based on f_classif feature selection technique technique with {highest_accuracy: .4} accuracy using RandomForest model\")\n"
      ]
    },
    {
      "cell_type": "markdown",
      "id": "zPfa9KpZeaWN",
      "metadata": {
        "id": "zPfa9KpZeaWN"
      },
      "source": [
        "### These are the columns to be used which give best support"
      ]
    },
    {
      "cell_type": "code",
      "execution_count": 16,
      "id": "f3482a53",
      "metadata": {
        "colab": {
          "base_uri": "https://localhost:8080/"
        },
        "id": "f3482a53",
        "outputId": "7a5746ed-de1a-44e1-f49d-297848f914b3"
      },
      "outputs": [
        {
          "name": "stdout",
          "output_type": "stream",
          "text": [
            "Selected Features: Index(['31403_at', '31444_s_at', '31525_s_at', '31638_at', '31918_at',\n",
            "       '32425_at', '32444_at', '33051_at', '33074_g_at', '33693_at',\n",
            "       ...\n",
            "       '274_at', '268_at', '260_at', '227_g_at', '236_at', '202_at', '185_at',\n",
            "       '197_at', '198_g_at', '162_at'],\n",
            "      dtype='object', length=600)\n"
          ]
        }
      ],
      "source": [
        "selector = SelectKBest(f_classif, k=best_no_of_features)\n",
        "X_selected = selector.fit_transform(X, y)\n",
        "\n",
        "selected_indices = selector.get_support(indices=True)\n",
        "\n",
        "#selected genes\n",
        "selected_features = X.columns[selected_indices]\n",
        "\n",
        "print(\"Selected Features:\", selected_features)\n"
      ]
    },
    {
      "cell_type": "markdown",
      "id": "yd4ubzT_ee39",
      "metadata": {
        "id": "yd4ubzT_ee39"
      },
      "source": [
        "### First Classification technique: Random Forest Classifier"
      ]
    },
    {
      "cell_type": "code",
      "execution_count": 17,
      "id": "891be5f8",
      "metadata": {
        "colab": {
          "base_uri": "https://localhost:8080/",
          "height": 74
        },
        "id": "891be5f8",
        "outputId": "0dfaae2e-dc3d-4de5-83af-a7076e88da82"
      },
      "outputs": [
        {
          "data": {
            "text/html": [
              "<style>#sk-container-id-1 {color: black;background-color: white;}#sk-container-id-1 pre{padding: 0;}#sk-container-id-1 div.sk-toggleable {background-color: white;}#sk-container-id-1 label.sk-toggleable__label {cursor: pointer;display: block;width: 100%;margin-bottom: 0;padding: 0.3em;box-sizing: border-box;text-align: center;}#sk-container-id-1 label.sk-toggleable__label-arrow:before {content: \"▸\";float: left;margin-right: 0.25em;color: #696969;}#sk-container-id-1 label.sk-toggleable__label-arrow:hover:before {color: black;}#sk-container-id-1 div.sk-estimator:hover label.sk-toggleable__label-arrow:before {color: black;}#sk-container-id-1 div.sk-toggleable__content {max-height: 0;max-width: 0;overflow: hidden;text-align: left;background-color: #f0f8ff;}#sk-container-id-1 div.sk-toggleable__content pre {margin: 0.2em;color: black;border-radius: 0.25em;background-color: #f0f8ff;}#sk-container-id-1 input.sk-toggleable__control:checked~div.sk-toggleable__content {max-height: 200px;max-width: 100%;overflow: auto;}#sk-container-id-1 input.sk-toggleable__control:checked~label.sk-toggleable__label-arrow:before {content: \"▾\";}#sk-container-id-1 div.sk-estimator input.sk-toggleable__control:checked~label.sk-toggleable__label {background-color: #d4ebff;}#sk-container-id-1 div.sk-label input.sk-toggleable__control:checked~label.sk-toggleable__label {background-color: #d4ebff;}#sk-container-id-1 input.sk-hidden--visually {border: 0;clip: rect(1px 1px 1px 1px);clip: rect(1px, 1px, 1px, 1px);height: 1px;margin: -1px;overflow: hidden;padding: 0;position: absolute;width: 1px;}#sk-container-id-1 div.sk-estimator {font-family: monospace;background-color: #f0f8ff;border: 1px dotted black;border-radius: 0.25em;box-sizing: border-box;margin-bottom: 0.5em;}#sk-container-id-1 div.sk-estimator:hover {background-color: #d4ebff;}#sk-container-id-1 div.sk-parallel-item::after {content: \"\";width: 100%;border-bottom: 1px solid gray;flex-grow: 1;}#sk-container-id-1 div.sk-label:hover label.sk-toggleable__label {background-color: #d4ebff;}#sk-container-id-1 div.sk-serial::before {content: \"\";position: absolute;border-left: 1px solid gray;box-sizing: border-box;top: 0;bottom: 0;left: 50%;z-index: 0;}#sk-container-id-1 div.sk-serial {display: flex;flex-direction: column;align-items: center;background-color: white;padding-right: 0.2em;padding-left: 0.2em;position: relative;}#sk-container-id-1 div.sk-item {position: relative;z-index: 1;}#sk-container-id-1 div.sk-parallel {display: flex;align-items: stretch;justify-content: center;background-color: white;position: relative;}#sk-container-id-1 div.sk-item::before, #sk-container-id-1 div.sk-parallel-item::before {content: \"\";position: absolute;border-left: 1px solid gray;box-sizing: border-box;top: 0;bottom: 0;left: 50%;z-index: -1;}#sk-container-id-1 div.sk-parallel-item {display: flex;flex-direction: column;z-index: 1;position: relative;background-color: white;}#sk-container-id-1 div.sk-parallel-item:first-child::after {align-self: flex-end;width: 50%;}#sk-container-id-1 div.sk-parallel-item:last-child::after {align-self: flex-start;width: 50%;}#sk-container-id-1 div.sk-parallel-item:only-child::after {width: 0;}#sk-container-id-1 div.sk-dashed-wrapped {border: 1px dashed gray;margin: 0 0.4em 0.5em 0.4em;box-sizing: border-box;padding-bottom: 0.4em;background-color: white;}#sk-container-id-1 div.sk-label label {font-family: monospace;font-weight: bold;display: inline-block;line-height: 1.2em;}#sk-container-id-1 div.sk-label-container {text-align: center;}#sk-container-id-1 div.sk-container {/* jupyter's `normalize.less` sets `[hidden] { display: none; }` but bootstrap.min.css set `[hidden] { display: none !important; }` so we also need the `!important` here to be able to override the default hidden behavior on the sphinx rendered scikit-learn.org. See: https://github.com/scikit-learn/scikit-learn/issues/21755 */display: inline-block !important;position: relative;}#sk-container-id-1 div.sk-text-repr-fallback {display: none;}</style><div id=\"sk-container-id-1\" class=\"sk-top-container\"><div class=\"sk-text-repr-fallback\"><pre>RandomForestClassifier()</pre><b>In a Jupyter environment, please rerun this cell to show the HTML representation or trust the notebook. <br />On GitHub, the HTML representation is unable to render, please try loading this page with nbviewer.org.</b></div><div class=\"sk-container\" hidden><div class=\"sk-item\"><div class=\"sk-estimator sk-toggleable\"><input class=\"sk-toggleable__control sk-hidden--visually\" id=\"sk-estimator-id-1\" type=\"checkbox\" checked><label for=\"sk-estimator-id-1\" class=\"sk-toggleable__label sk-toggleable__label-arrow\">RandomForestClassifier</label><div class=\"sk-toggleable__content\"><pre>RandomForestClassifier()</pre></div></div></div></div></div>"
            ],
            "text/plain": [
              "RandomForestClassifier()"
            ]
          },
          "execution_count": 17,
          "metadata": {},
          "output_type": "execute_result"
        }
      ],
      "source": [
        "RandomForest.fit(X_train[selected_indices],y_train)"
      ]
    },
    {
      "cell_type": "code",
      "execution_count": 18,
      "id": "5cd70966",
      "metadata": {
        "colab": {
          "base_uri": "https://localhost:8080/"
        },
        "id": "5cd70966",
        "outputId": "e8afee4c-c5ba-49e9-8be9-ae767427c6c7"
      },
      "outputs": [
        {
          "data": {
            "text/plain": [
              "array([1, 0, 0, 0, 0, 0, 0, 1, 4, 3, 0, 0, 0, 0, 3, 0, 0, 0, 0, 0, 0, 0,\n",
              "       0, 0, 4, 1, 0, 0, 0, 4, 0, 0, 4, 0, 4, 0, 0, 0, 0, 0, 0, 0, 0, 3,\n",
              "       0, 4, 0, 1, 1, 0, 0, 0, 0, 2, 0, 0, 1, 0, 3, 3, 0, 0, 0, 0, 0, 0,\n",
              "       0, 0, 1, 0, 2, 0, 4, 0, 4, 0, 0, 0, 0, 0, 0, 0])"
            ]
          },
          "execution_count": 18,
          "metadata": {},
          "output_type": "execute_result"
        }
      ],
      "source": [
        "pred=RandomForest.predict(X_test[selected_indices])\n",
        "pred"
      ]
    },
    {
      "cell_type": "code",
      "execution_count": 19,
      "id": "d1ae5444",
      "metadata": {
        "colab": {
          "base_uri": "https://localhost:8080/"
        },
        "id": "d1ae5444",
        "outputId": "50262ba1-ceee-4da7-9a4c-f3eca1d1b07a"
      },
      "outputs": [
        {
          "name": "stdout",
          "output_type": "stream",
          "text": [
            "              precision    recall  f1-score   support\n",
            "\n",
            "           0       0.98      0.92      0.95        60\n",
            "           1       0.86      0.86      0.86         7\n",
            "           2       1.00      1.00      1.00         2\n",
            "           3       0.56      1.00      0.71         5\n",
            "           4       1.00      1.00      1.00         8\n",
            "\n",
            "    accuracy                           0.93        82\n",
            "   macro avg       0.88      0.95      0.90        82\n",
            "weighted avg       0.95      0.93      0.93        82\n",
            "\n"
          ]
        }
      ],
      "source": [
        "print(classification_report(pred,y_test))"
      ]
    },
    {
      "cell_type": "code",
      "execution_count": 20,
      "id": "5261e2e1",
      "metadata": {
        "colab": {
          "base_uri": "https://localhost:8080/",
          "height": 447
        },
        "id": "5261e2e1",
        "outputId": "179217f3-8b64-4d5b-b5b2-642adb189a51"
      },
      "outputs": [
        {
          "ename": "NameError",
          "evalue": "name 'sns' is not defined",
          "output_type": "error",
          "traceback": [
            "\u001b[1;31m---------------------------------------------------------------------------\u001b[0m",
            "\u001b[1;31mNameError\u001b[0m                                 Traceback (most recent call last)",
            "Cell \u001b[1;32mIn[20], line 1\u001b[0m\n\u001b[1;32m----> 1\u001b[0m \u001b[43msns\u001b[49m\u001b[38;5;241m.\u001b[39mheatmap(confusion_matrix(pred,y_test),annot\u001b[38;5;241m=\u001b[39m\u001b[38;5;28;01mTrue\u001b[39;00m)\n",
            "\u001b[1;31mNameError\u001b[0m: name 'sns' is not defined"
          ]
        }
      ],
      "source": [
        "# sns.heatmap(confusion_matrix(pred,y_test),annot=True)"
      ]
    },
    {
      "cell_type": "markdown",
      "id": "6W1B1vctenQf",
      "metadata": {
        "id": "6W1B1vctenQf"
      },
      "source": [
        "### Second classification model: Logistic Regression"
      ]
    },
    {
      "cell_type": "code",
      "execution_count": 21,
      "id": "ab863cbc",
      "metadata": {
        "colab": {
          "base_uri": "https://localhost:8080/",
          "height": 74
        },
        "id": "ab863cbc",
        "outputId": "9c702aa0-6933-4874-c205-bbbc083966ea"
      },
      "outputs": [
        {
          "name": "stderr",
          "output_type": "stream",
          "text": [
            "c:\\Users\\jacko\\AppData\\Local\\Programs\\Python\\Python310\\lib\\site-packages\\sklearn\\linear_model\\_logistic.py:458: ConvergenceWarning: lbfgs failed to converge (status=1):\n",
            "STOP: TOTAL NO. of ITERATIONS REACHED LIMIT.\n",
            "\n",
            "Increase the number of iterations (max_iter) or scale the data as shown in:\n",
            "    https://scikit-learn.org/stable/modules/preprocessing.html\n",
            "Please also refer to the documentation for alternative solver options:\n",
            "    https://scikit-learn.org/stable/modules/linear_model.html#logistic-regression\n",
            "  n_iter_i = _check_optimize_result(\n"
          ]
        },
        {
          "data": {
            "text/html": [
              "<style>#sk-container-id-2 {color: black;background-color: white;}#sk-container-id-2 pre{padding: 0;}#sk-container-id-2 div.sk-toggleable {background-color: white;}#sk-container-id-2 label.sk-toggleable__label {cursor: pointer;display: block;width: 100%;margin-bottom: 0;padding: 0.3em;box-sizing: border-box;text-align: center;}#sk-container-id-2 label.sk-toggleable__label-arrow:before {content: \"▸\";float: left;margin-right: 0.25em;color: #696969;}#sk-container-id-2 label.sk-toggleable__label-arrow:hover:before {color: black;}#sk-container-id-2 div.sk-estimator:hover label.sk-toggleable__label-arrow:before {color: black;}#sk-container-id-2 div.sk-toggleable__content {max-height: 0;max-width: 0;overflow: hidden;text-align: left;background-color: #f0f8ff;}#sk-container-id-2 div.sk-toggleable__content pre {margin: 0.2em;color: black;border-radius: 0.25em;background-color: #f0f8ff;}#sk-container-id-2 input.sk-toggleable__control:checked~div.sk-toggleable__content {max-height: 200px;max-width: 100%;overflow: auto;}#sk-container-id-2 input.sk-toggleable__control:checked~label.sk-toggleable__label-arrow:before {content: \"▾\";}#sk-container-id-2 div.sk-estimator input.sk-toggleable__control:checked~label.sk-toggleable__label {background-color: #d4ebff;}#sk-container-id-2 div.sk-label input.sk-toggleable__control:checked~label.sk-toggleable__label {background-color: #d4ebff;}#sk-container-id-2 input.sk-hidden--visually {border: 0;clip: rect(1px 1px 1px 1px);clip: rect(1px, 1px, 1px, 1px);height: 1px;margin: -1px;overflow: hidden;padding: 0;position: absolute;width: 1px;}#sk-container-id-2 div.sk-estimator {font-family: monospace;background-color: #f0f8ff;border: 1px dotted black;border-radius: 0.25em;box-sizing: border-box;margin-bottom: 0.5em;}#sk-container-id-2 div.sk-estimator:hover {background-color: #d4ebff;}#sk-container-id-2 div.sk-parallel-item::after {content: \"\";width: 100%;border-bottom: 1px solid gray;flex-grow: 1;}#sk-container-id-2 div.sk-label:hover label.sk-toggleable__label {background-color: #d4ebff;}#sk-container-id-2 div.sk-serial::before {content: \"\";position: absolute;border-left: 1px solid gray;box-sizing: border-box;top: 0;bottom: 0;left: 50%;z-index: 0;}#sk-container-id-2 div.sk-serial {display: flex;flex-direction: column;align-items: center;background-color: white;padding-right: 0.2em;padding-left: 0.2em;position: relative;}#sk-container-id-2 div.sk-item {position: relative;z-index: 1;}#sk-container-id-2 div.sk-parallel {display: flex;align-items: stretch;justify-content: center;background-color: white;position: relative;}#sk-container-id-2 div.sk-item::before, #sk-container-id-2 div.sk-parallel-item::before {content: \"\";position: absolute;border-left: 1px solid gray;box-sizing: border-box;top: 0;bottom: 0;left: 50%;z-index: -1;}#sk-container-id-2 div.sk-parallel-item {display: flex;flex-direction: column;z-index: 1;position: relative;background-color: white;}#sk-container-id-2 div.sk-parallel-item:first-child::after {align-self: flex-end;width: 50%;}#sk-container-id-2 div.sk-parallel-item:last-child::after {align-self: flex-start;width: 50%;}#sk-container-id-2 div.sk-parallel-item:only-child::after {width: 0;}#sk-container-id-2 div.sk-dashed-wrapped {border: 1px dashed gray;margin: 0 0.4em 0.5em 0.4em;box-sizing: border-box;padding-bottom: 0.4em;background-color: white;}#sk-container-id-2 div.sk-label label {font-family: monospace;font-weight: bold;display: inline-block;line-height: 1.2em;}#sk-container-id-2 div.sk-label-container {text-align: center;}#sk-container-id-2 div.sk-container {/* jupyter's `normalize.less` sets `[hidden] { display: none; }` but bootstrap.min.css set `[hidden] { display: none !important; }` so we also need the `!important` here to be able to override the default hidden behavior on the sphinx rendered scikit-learn.org. See: https://github.com/scikit-learn/scikit-learn/issues/21755 */display: inline-block !important;position: relative;}#sk-container-id-2 div.sk-text-repr-fallback {display: none;}</style><div id=\"sk-container-id-2\" class=\"sk-top-container\"><div class=\"sk-text-repr-fallback\"><pre>LogisticRegression()</pre><b>In a Jupyter environment, please rerun this cell to show the HTML representation or trust the notebook. <br />On GitHub, the HTML representation is unable to render, please try loading this page with nbviewer.org.</b></div><div class=\"sk-container\" hidden><div class=\"sk-item\"><div class=\"sk-estimator sk-toggleable\"><input class=\"sk-toggleable__control sk-hidden--visually\" id=\"sk-estimator-id-2\" type=\"checkbox\" checked><label for=\"sk-estimator-id-2\" class=\"sk-toggleable__label sk-toggleable__label-arrow\">LogisticRegression</label><div class=\"sk-toggleable__content\"><pre>LogisticRegression()</pre></div></div></div></div></div>"
            ],
            "text/plain": [
              "LogisticRegression()"
            ]
          },
          "execution_count": 21,
          "metadata": {},
          "output_type": "execute_result"
        }
      ],
      "source": [
        "logregression = LogisticRegression()\n",
        "\n",
        "logregression.fit(X_train[selected_indices], y_train)\n",
        "\n"
      ]
    },
    {
      "cell_type": "code",
      "execution_count": 22,
      "id": "f28737b9",
      "metadata": {
        "id": "f28737b9"
      },
      "outputs": [],
      "source": [
        "y_pred = logregression.predict(X_test[selected_indices])\n",
        "accuracy = accuracy_score(y_test, y_pred)\n",
        "report = classification_report(y_test, y_pred)"
      ]
    },
    {
      "cell_type": "code",
      "execution_count": 23,
      "id": "27a577a9",
      "metadata": {
        "colab": {
          "base_uri": "https://localhost:8080/"
        },
        "id": "27a577a9",
        "outputId": "c86bc45d-cf8e-472f-b6dd-ba3977b6c897"
      },
      "outputs": [
        {
          "name": "stdout",
          "output_type": "stream",
          "text": [
            "Accuracy: 0.951\n",
            "Classification Summary:\n",
            "               precision    recall  f1-score   support\n",
            "\n",
            "           0       0.96      0.96      0.96        56\n",
            "           1       0.86      0.86      0.86         7\n",
            "           2       1.00      1.00      1.00         2\n",
            "           3       0.89      0.89      0.89         9\n",
            "           4       1.00      1.00      1.00         8\n",
            "\n",
            "    accuracy                           0.95        82\n",
            "   macro avg       0.94      0.94      0.94        82\n",
            "weighted avg       0.95      0.95      0.95        82\n",
            "\n"
          ]
        }
      ],
      "source": [
        "\n",
        "print(f\"Accuracy: {accuracy:.3f}\")\n",
        "print(f\"Classification Summary:\\n {report}\")"
      ]
    },
    {
      "cell_type": "code",
      "execution_count": 24,
      "id": "ff279acb",
      "metadata": {
        "colab": {
          "base_uri": "https://localhost:8080/"
        },
        "id": "ff279acb",
        "outputId": "1c68228a-dcfd-444c-a453-3e4891a7818a"
      },
      "outputs": [
        {
          "name": "stdout",
          "output_type": "stream",
          "text": [
            "Predicted Cancer Types:[b'2' b'1' b'1' b'1' b'1' b'4' b'1' b'2' b'5' b'4' b'4' b'4' b'1' b'1'\n",
            " b'4' b'1' b'1' b'1' b'1' b'1' b'1' b'1' b'1' b'1' b'5' b'2' b'1' b'1'\n",
            " b'1' b'5' b'1' b'1' b'5' b'1' b'5' b'1' b'1' b'1' b'1' b'1' b'1' b'1'\n",
            " b'1' b'4' b'1' b'5' b'1' b'2' b'2' b'1' b'1' b'1' b'1' b'3' b'1' b'1'\n",
            " b'2' b'1' b'4' b'4' b'1' b'1' b'1' b'4' b'1' b'1' b'1' b'1' b'2' b'1'\n",
            " b'3' b'1' b'5' b'1' b'5' b'1' b'1' b'1' b'1' b'1' b'1' b'1']\n"
          ]
        }
      ],
      "source": [
        "y_pred_decoded = label_encoder.inverse_transform(y_pred)\n",
        "print(f\"Predicted Cancer Types:{y_pred_decoded}\")"
      ]
    },
    {
      "cell_type": "markdown",
      "id": "s1McDRlxe172",
      "metadata": {
        "id": "s1McDRlxe172"
      },
      "source": [
        "### Third Classification model: Support Vector Classification"
      ]
    },
    {
      "cell_type": "code",
      "execution_count": 25,
      "id": "0521c04a",
      "metadata": {
        "id": "0521c04a"
      },
      "outputs": [],
      "source": [
        "svc = SVC()\n",
        "svc.fit(X_train, y_train)\n",
        "y_pred = svc.predict(X_test)\n"
      ]
    },
    {
      "cell_type": "code",
      "execution_count": 26,
      "id": "e9e6fcf6",
      "metadata": {},
      "outputs": [
        {
          "name": "stdout",
          "output_type": "stream",
          "text": [
            "Accuracy: 0.878\n",
            "              precision    recall  f1-score   support\n",
            "\n",
            "           0       0.86      0.98      0.92        56\n",
            "           1       0.83      0.71      0.77         7\n",
            "           2       0.00      0.00      0.00         2\n",
            "           3       1.00      0.44      0.62         9\n",
            "           4       1.00      1.00      1.00         8\n",
            "\n",
            "    accuracy                           0.88        82\n",
            "   macro avg       0.74      0.63      0.66        82\n",
            "weighted avg       0.87      0.88      0.86        82\n",
            "\n"
          ]
        },
        {
          "name": "stderr",
          "output_type": "stream",
          "text": [
            "c:\\Users\\jacko\\AppData\\Local\\Programs\\Python\\Python310\\lib\\site-packages\\sklearn\\metrics\\_classification.py:1344: UndefinedMetricWarning: Precision and F-score are ill-defined and being set to 0.0 in labels with no predicted samples. Use `zero_division` parameter to control this behavior.\n",
            "  _warn_prf(average, modifier, msg_start, len(result))\n",
            "c:\\Users\\jacko\\AppData\\Local\\Programs\\Python\\Python310\\lib\\site-packages\\sklearn\\metrics\\_classification.py:1344: UndefinedMetricWarning: Precision and F-score are ill-defined and being set to 0.0 in labels with no predicted samples. Use `zero_division` parameter to control this behavior.\n",
            "  _warn_prf(average, modifier, msg_start, len(result))\n",
            "c:\\Users\\jacko\\AppData\\Local\\Programs\\Python\\Python310\\lib\\site-packages\\sklearn\\metrics\\_classification.py:1344: UndefinedMetricWarning: Precision and F-score are ill-defined and being set to 0.0 in labels with no predicted samples. Use `zero_division` parameter to control this behavior.\n",
            "  _warn_prf(average, modifier, msg_start, len(result))\n"
          ]
        }
      ],
      "source": [
        "accuracy = accuracy_score(y_test, y_pred)\n",
        "print(f\"Accuracy: {accuracy:.3f}\")\n",
        "print(classification_report(y_test,y_pred))"
      ]
    },
    {
      "cell_type": "code",
      "execution_count": 27,
      "id": "7df3cbac",
      "metadata": {
        "colab": {
          "base_uri": "https://localhost:8080/"
        },
        "id": "7df3cbac",
        "outputId": "950f870b-9ba9-42cd-fcc0-f91e5c8a10a2"
      },
      "outputs": [
        {
          "name": "stdout",
          "output_type": "stream",
          "text": [
            "              PC1          PC2\n",
            "0     4294.574339 -2602.990649\n",
            "1    -7321.610287 -5683.608846\n",
            "2    -4849.176655 -2224.592370\n",
            "3    -6903.139071 -6631.330322\n",
            "4    -7544.389199  -916.037116\n",
            "..            ...          ...\n",
            "198  19985.371624 -2843.106475\n",
            "199  14886.420315  -200.846569\n",
            "200  18104.805560 -1491.062045\n",
            "201   5273.521690 -2116.566977\n",
            "202  20824.485993 -2167.989679\n",
            "\n",
            "[203 rows x 2 columns]\n"
          ]
        }
      ],
      "source": [
        "\n",
        "\n",
        "numerical_columns = df.select_dtypes(include='number')\n",
        "\n",
        "n_components = 2\n",
        "pca = PCA(n_components=n_components)\n",
        "\n",
        "principal_components = pca.fit_transform(numerical_columns)\n",
        "\n",
        "principal_df = pd.DataFrame(data=principal_components, columns=['PC{}'.format(i+1) for i in range(n_components)])\n",
        "\n",
        "print(principal_df)\n",
        "\n",
        "\n"
      ]
    },
    {
      "cell_type": "code",
      "execution_count": 28,
      "id": "0bc6c9b8",
      "metadata": {},
      "outputs": [
        {
          "name": "stderr",
          "output_type": "stream",
          "text": [
            "c:\\Users\\jacko\\AppData\\Local\\Programs\\Python\\Python310\\lib\\site-packages\\sklearn\\cluster\\_kmeans.py:870: FutureWarning: The default value of `n_init` will change from 10 to 'auto' in 1.4. Set the value of `n_init` explicitly to suppress the warning\n",
            "  warnings.warn(\n",
            "No artists with labels found to put in legend.  Note that artists whose label start with an underscore are ignored when legend() is called with no argument.\n",
            "No artists with labels found to put in legend.  Note that artists whose label start with an underscore are ignored when legend() is called with no argument.\n"
          ]
        },
        {
          "data": {
            "image/png": "[encoded data removed]",
            "text/plain": [
              "<Figure size 1000x400 with 2 Axes>"
            ]
          },
          "metadata": {},
          "output_type": "display_data"
        }
      ],
      "source": [
        "principal_df[\"type\"]=df[\"type\"]\n",
        "\n",
        "kmeans = KMeans(n_clusters=5, random_state=42)\n",
        "\n",
        "kmeans.fit(principal_df.drop(\"type\",axis=1))\n",
        "\n",
        "\n",
        "cluster_labels = kmeans.labels_\n",
        "\n",
        "plt.figure(figsize=(10,4))\n",
        "\n",
        "plt.subplot(1,2,1)\n",
        "plt.scatter(principal_df['PC1'], principal_df['PC2'], c=cluster_labels, cmap='viridis')\n",
        "plt.title('K-Means clusters')\n",
        "plt.xlabel('PC1')\n",
        "plt.ylabel('PC2')\n",
        "plt.legend()\n",
        "\n",
        "\n",
        "plt.subplot(1,2,2)\n",
        "plt.scatter(principal_df['PC1'], principal_df['PC2'], c=principal_df[\"type\"], cmap='viridis')\n",
        "plt.title('True labels')\n",
        "plt.xlabel('PC1')\n",
        "plt.ylabel('PC2')\n",
        "plt.legend()\n",
        "plt.show()\n",
        "plt.show()\n"
      ]
    },
    {
      "cell_type": "code",
      "execution_count": 29,
      "id": "LMeGiY7-b5fG",
      "metadata": {
        "id": "LMeGiY7-b5fG"
      },
      "outputs": [],
      "source": [
        "xtrain, xtest, ytrain, ytest = train_test_split(principal_df,y_binary,test_size=0.40,random_state=42)"
      ]
    },
    {
      "cell_type": "code",
      "execution_count": 30,
      "id": "3f077318",
      "metadata": {
        "colab": {
          "base_uri": "https://localhost:8080/",
          "height": 74
        },
        "id": "3f077318",
        "outputId": "5586de7a-529a-468b-88fb-f1aba1411241"
      },
      "outputs": [
        {
          "data": {
            "text/html": [
              "<style>#sk-container-id-3 {color: black;background-color: white;}#sk-container-id-3 pre{padding: 0;}#sk-container-id-3 div.sk-toggleable {background-color: white;}#sk-container-id-3 label.sk-toggleable__label {cursor: pointer;display: block;width: 100%;margin-bottom: 0;padding: 0.3em;box-sizing: border-box;text-align: center;}#sk-container-id-3 label.sk-toggleable__label-arrow:before {content: \"▸\";float: left;margin-right: 0.25em;color: #696969;}#sk-container-id-3 label.sk-toggleable__label-arrow:hover:before {color: black;}#sk-container-id-3 div.sk-estimator:hover label.sk-toggleable__label-arrow:before {color: black;}#sk-container-id-3 div.sk-toggleable__content {max-height: 0;max-width: 0;overflow: hidden;text-align: left;background-color: #f0f8ff;}#sk-container-id-3 div.sk-toggleable__content pre {margin: 0.2em;color: black;border-radius: 0.25em;background-color: #f0f8ff;}#sk-container-id-3 input.sk-toggleable__control:checked~div.sk-toggleable__content {max-height: 200px;max-width: 100%;overflow: auto;}#sk-container-id-3 input.sk-toggleable__control:checked~label.sk-toggleable__label-arrow:before {content: \"▾\";}#sk-container-id-3 div.sk-estimator input.sk-toggleable__control:checked~label.sk-toggleable__label {background-color: #d4ebff;}#sk-container-id-3 div.sk-label input.sk-toggleable__control:checked~label.sk-toggleable__label {background-color: #d4ebff;}#sk-container-id-3 input.sk-hidden--visually {border: 0;clip: rect(1px 1px 1px 1px);clip: rect(1px, 1px, 1px, 1px);height: 1px;margin: -1px;overflow: hidden;padding: 0;position: absolute;width: 1px;}#sk-container-id-3 div.sk-estimator {font-family: monospace;background-color: #f0f8ff;border: 1px dotted black;border-radius: 0.25em;box-sizing: border-box;margin-bottom: 0.5em;}#sk-container-id-3 div.sk-estimator:hover {background-color: #d4ebff;}#sk-container-id-3 div.sk-parallel-item::after {content: \"\";width: 100%;border-bottom: 1px solid gray;flex-grow: 1;}#sk-container-id-3 div.sk-label:hover label.sk-toggleable__label {background-color: #d4ebff;}#sk-container-id-3 div.sk-serial::before {content: \"\";position: absolute;border-left: 1px solid gray;box-sizing: border-box;top: 0;bottom: 0;left: 50%;z-index: 0;}#sk-container-id-3 div.sk-serial {display: flex;flex-direction: column;align-items: center;background-color: white;padding-right: 0.2em;padding-left: 0.2em;position: relative;}#sk-container-id-3 div.sk-item {position: relative;z-index: 1;}#sk-container-id-3 div.sk-parallel {display: flex;align-items: stretch;justify-content: center;background-color: white;position: relative;}#sk-container-id-3 div.sk-item::before, #sk-container-id-3 div.sk-parallel-item::before {content: \"\";position: absolute;border-left: 1px solid gray;box-sizing: border-box;top: 0;bottom: 0;left: 50%;z-index: -1;}#sk-container-id-3 div.sk-parallel-item {display: flex;flex-direction: column;z-index: 1;position: relative;background-color: white;}#sk-container-id-3 div.sk-parallel-item:first-child::after {align-self: flex-end;width: 50%;}#sk-container-id-3 div.sk-parallel-item:last-child::after {align-self: flex-start;width: 50%;}#sk-container-id-3 div.sk-parallel-item:only-child::after {width: 0;}#sk-container-id-3 div.sk-dashed-wrapped {border: 1px dashed gray;margin: 0 0.4em 0.5em 0.4em;box-sizing: border-box;padding-bottom: 0.4em;background-color: white;}#sk-container-id-3 div.sk-label label {font-family: monospace;font-weight: bold;display: inline-block;line-height: 1.2em;}#sk-container-id-3 div.sk-label-container {text-align: center;}#sk-container-id-3 div.sk-container {/* jupyter's `normalize.less` sets `[hidden] { display: none; }` but bootstrap.min.css set `[hidden] { display: none !important; }` so we also need the `!important` here to be able to override the default hidden behavior on the sphinx rendered scikit-learn.org. See: https://github.com/scikit-learn/scikit-learn/issues/21755 */display: inline-block !important;position: relative;}#sk-container-id-3 div.sk-text-repr-fallback {display: none;}</style><div id=\"sk-container-id-3\" class=\"sk-top-container\"><div class=\"sk-text-repr-fallback\"><pre>RandomForestClassifier()</pre><b>In a Jupyter environment, please rerun this cell to show the HTML representation or trust the notebook. <br />On GitHub, the HTML representation is unable to render, please try loading this page with nbviewer.org.</b></div><div class=\"sk-container\" hidden><div class=\"sk-item\"><div class=\"sk-estimator sk-toggleable\"><input class=\"sk-toggleable__control sk-hidden--visually\" id=\"sk-estimator-id-3\" type=\"checkbox\" checked><label for=\"sk-estimator-id-3\" class=\"sk-toggleable__label sk-toggleable__label-arrow\">RandomForestClassifier</label><div class=\"sk-toggleable__content\"><pre>RandomForestClassifier()</pre></div></div></div></div></div>"
            ],
            "text/plain": [
              "RandomForestClassifier()"
            ]
          },
          "execution_count": 30,
          "metadata": {},
          "output_type": "execute_result"
        }
      ],
      "source": [
        "RandomForest.fit(xtrain, ytrain)"
      ]
    },
    {
      "cell_type": "code",
      "execution_count": 31,
      "id": "7LvLvc2rb0yd",
      "metadata": {
        "colab": {
          "base_uri": "https://localhost:8080/"
        },
        "id": "7LvLvc2rb0yd",
        "outputId": "c1a1b576-9854-4e95-8ace-edd1c169629d"
      },
      "outputs": [
        {
          "data": {
            "text/plain": [
              "1.0"
            ]
          },
          "execution_count": 31,
          "metadata": {},
          "output_type": "execute_result"
        }
      ],
      "source": [
        "ypred = RandomForest.predict(xtest)\n",
        "accuracy = accuracy_score(ypred, ytest)\n",
        "accuracy"
      ]
    },
    {
      "cell_type": "markdown",
      "id": "S4kd-hvpc3YH",
      "metadata": {
        "id": "S4kd-hvpc3YH"
      },
      "source": [
        "# Now for the other filter method technique"
      ]
    },
    {
      "cell_type": "markdown",
      "id": "2RdF0cJYonre",
      "metadata": {
        "id": "2RdF0cJYonre"
      },
      "source": [
        "### It relies heavily on Random Forest Classification, it takes training data and uses it to train a random forest classifier then it extracts the importance of each feature then we use this features importances to evaluate the best accuracy or support"
      ]
    },
    {
      "cell_type": "code",
      "execution_count": 32,
      "id": "lmZi5HUHcx0l",
      "metadata": {
        "colab": {
          "base_uri": "https://localhost:8080/",
          "height": 74
        },
        "id": "lmZi5HUHcx0l",
        "outputId": "416533e3-8409-486c-a6eb-e7b092257966"
      },
      "outputs": [
        {
          "data": {
            "text/html": [
              "<style>#sk-container-id-4 {color: black;background-color: white;}#sk-container-id-4 pre{padding: 0;}#sk-container-id-4 div.sk-toggleable {background-color: white;}#sk-container-id-4 label.sk-toggleable__label {cursor: pointer;display: block;width: 100%;margin-bottom: 0;padding: 0.3em;box-sizing: border-box;text-align: center;}#sk-container-id-4 label.sk-toggleable__label-arrow:before {content: \"▸\";float: left;margin-right: 0.25em;color: #696969;}#sk-container-id-4 label.sk-toggleable__label-arrow:hover:before {color: black;}#sk-container-id-4 div.sk-estimator:hover label.sk-toggleable__label-arrow:before {color: black;}#sk-container-id-4 div.sk-toggleable__content {max-height: 0;max-width: 0;overflow: hidden;text-align: left;background-color: #f0f8ff;}#sk-container-id-4 div.sk-toggleable__content pre {margin: 0.2em;color: black;border-radius: 0.25em;background-color: #f0f8ff;}#sk-container-id-4 input.sk-toggleable__control:checked~div.sk-toggleable__content {max-height: 200px;max-width: 100%;overflow: auto;}#sk-container-id-4 input.sk-toggleable__control:checked~label.sk-toggleable__label-arrow:before {content: \"▾\";}#sk-container-id-4 div.sk-estimator input.sk-toggleable__control:checked~label.sk-toggleable__label {background-color: #d4ebff;}#sk-container-id-4 div.sk-label input.sk-toggleable__control:checked~label.sk-toggleable__label {background-color: #d4ebff;}#sk-container-id-4 input.sk-hidden--visually {border: 0;clip: rect(1px 1px 1px 1px);clip: rect(1px, 1px, 1px, 1px);height: 1px;margin: -1px;overflow: hidden;padding: 0;position: absolute;width: 1px;}#sk-container-id-4 div.sk-estimator {font-family: monospace;background-color: #f0f8ff;border: 1px dotted black;border-radius: 0.25em;box-sizing: border-box;margin-bottom: 0.5em;}#sk-container-id-4 div.sk-estimator:hover {background-color: #d4ebff;}#sk-container-id-4 div.sk-parallel-item::after {content: \"\";width: 100%;border-bottom: 1px solid gray;flex-grow: 1;}#sk-container-id-4 div.sk-label:hover label.sk-toggleable__label {background-color: #d4ebff;}#sk-container-id-4 div.sk-serial::before {content: \"\";position: absolute;border-left: 1px solid gray;box-sizing: border-box;top: 0;bottom: 0;left: 50%;z-index: 0;}#sk-container-id-4 div.sk-serial {display: flex;flex-direction: column;align-items: center;background-color: white;padding-right: 0.2em;padding-left: 0.2em;position: relative;}#sk-container-id-4 div.sk-item {position: relative;z-index: 1;}#sk-container-id-4 div.sk-parallel {display: flex;align-items: stretch;justify-content: center;background-color: white;position: relative;}#sk-container-id-4 div.sk-item::before, #sk-container-id-4 div.sk-parallel-item::before {content: \"\";position: absolute;border-left: 1px solid gray;box-sizing: border-box;top: 0;bottom: 0;left: 50%;z-index: -1;}#sk-container-id-4 div.sk-parallel-item {display: flex;flex-direction: column;z-index: 1;position: relative;background-color: white;}#sk-container-id-4 div.sk-parallel-item:first-child::after {align-self: flex-end;width: 50%;}#sk-container-id-4 div.sk-parallel-item:last-child::after {align-self: flex-start;width: 50%;}#sk-container-id-4 div.sk-parallel-item:only-child::after {width: 0;}#sk-container-id-4 div.sk-dashed-wrapped {border: 1px dashed gray;margin: 0 0.4em 0.5em 0.4em;box-sizing: border-box;padding-bottom: 0.4em;background-color: white;}#sk-container-id-4 div.sk-label label {font-family: monospace;font-weight: bold;display: inline-block;line-height: 1.2em;}#sk-container-id-4 div.sk-label-container {text-align: center;}#sk-container-id-4 div.sk-container {/* jupyter's `normalize.less` sets `[hidden] { display: none; }` but bootstrap.min.css set `[hidden] { display: none !important; }` so we also need the `!important` here to be able to override the default hidden behavior on the sphinx rendered scikit-learn.org. See: https://github.com/scikit-learn/scikit-learn/issues/21755 */display: inline-block !important;position: relative;}#sk-container-id-4 div.sk-text-repr-fallback {display: none;}</style><div id=\"sk-container-id-4\" class=\"sk-top-container\"><div class=\"sk-text-repr-fallback\"><pre>RandomForestClassifier()</pre><b>In a Jupyter environment, please rerun this cell to show the HTML representation or trust the notebook. <br />On GitHub, the HTML representation is unable to render, please try loading this page with nbviewer.org.</b></div><div class=\"sk-container\" hidden><div class=\"sk-item\"><div class=\"sk-estimator sk-toggleable\"><input class=\"sk-toggleable__control sk-hidden--visually\" id=\"sk-estimator-id-4\" type=\"checkbox\" checked><label for=\"sk-estimator-id-4\" class=\"sk-toggleable__label sk-toggleable__label-arrow\">RandomForestClassifier</label><div class=\"sk-toggleable__content\"><pre>RandomForestClassifier()</pre></div></div></div></div></div>"
            ],
            "text/plain": [
              "RandomForestClassifier()"
            ]
          },
          "execution_count": 32,
          "metadata": {},
          "output_type": "execute_result"
        }
      ],
      "source": [
        "xtrain, xtest, ytrain, ytest=train_test_split(X_scaled,y_binary, stratify=y, test_size=0.40,random_state=42)\n",
        "RandomForest.fit(xtrain, ytrain)"
      ]
    },
    {
      "cell_type": "code",
      "execution_count": 33,
      "id": "NbKhBTgigdCt",
      "metadata": {
        "id": "NbKhBTgigdCt"
      },
      "outputs": [],
      "source": [
        "feature_importances = pd.Series(RandomForest.feature_importances_, index=df.copy().columns[:-1])"
      ]
    },
    {
      "cell_type": "code",
      "execution_count": 34,
      "id": "P7WxwIYzoHJu",
      "metadata": {
        "colab": {
          "base_uri": "https://localhost:8080/"
        },
        "id": "P7WxwIYzoHJu",
        "outputId": "4ddef56e-de3c-4d5a-d357-ba3f8429a38d"
      },
      "outputs": [
        {
          "name": "stdout",
          "output_type": "stream",
          "text": [
            "[0.573170731707317, 0.926829268292683, 0.9390243902439024, 0.9024390243902439, 0.9390243902439024, 0.9390243902439024, 0.926829268292683, 0.926829268292683, 0.9390243902439024, 0.926829268292683, 0.926829268292683, 0.926829268292683, 0.9146341463414634, 0.9146341463414634, 0.926829268292683, 0.9146341463414634, 0.8780487804878049, 0.8902439024390244, 0.9024390243902439, 0.9146341463414634, 0.8780487804878049, 0.9146341463414634, 0.9024390243902439, 0.8780487804878049, 0.8780487804878049, 0.8902439024390244, 0.8658536585365854, 0.8780487804878049, 0.8658536585365854, 0.8658536585365854, 0.9146341463414634, 0.9024390243902439, 0.9146341463414634, 0.8902439024390244, 0.8658536585365854, 0.9024390243902439, 0.8414634146341463, 0.8414634146341463, 0.8780487804878049, 0.8658536585365854, 0.8536585365853658, 0.8658536585365854, 0.8902439024390244, 0.8780487804878049, 0.8780487804878049, 0.8780487804878049, 0.8780487804878049, 0.8780487804878049, 0.8536585365853658, 0.9024390243902439, 0.8902439024390244, 0.8902439024390244, 0.8658536585365854, 0.8902439024390244, 0.8902439024390244, 0.8902439024390244, 0.8902439024390244, 0.8658536585365854, 0.8780487804878049, 0.8902439024390244, 0.8536585365853658, 0.8902439024390244, 0.9024390243902439, 0.8658536585365854, 0.8780487804878049, 0.8658536585365854, 0.8658536585365854, 0.8902439024390244, 0.8902439024390244, 0.8658536585365854, 0.8780487804878049, 0.8658536585365854, 0.8780487804878049, 0.8658536585365854, 0.8780487804878049, 0.8780487804878049, 0.8536585365853658, 0.8780487804878049, 0.8658536585365854, 0.8658536585365854, 0.8536585365853658, 0.8658536585365854, 0.8902439024390244, 0.8780487804878049, 0.8902439024390244, 0.8902439024390244, 0.8658536585365854, 0.8780487804878049, 0.8902439024390244, 0.8780487804878049, 0.8536585365853658, 0.8536585365853658, 0.8414634146341463, 0.8658536585365854, 0.8536585365853658, 0.8536585365853658, 0.8658536585365854, 0.8658536585365854, 0.8536585365853658, 0.8414634146341463, 0.8536585365853658, 0.8536585365853658, 0.8536585365853658, 0.8780487804878049, 0.8658536585365854, 0.8536585365853658, 0.8658536585365854, 0.8536585365853658, 0.8536585365853658, 0.8658536585365854, 0.8658536585365854, 0.8658536585365854, 0.8780487804878049, 0.8536585365853658, 0.8658536585365854, 0.8658536585365854, 0.8902439024390244, 0.8658536585365854, 0.8780487804878049, 0.8658536585365854, 0.8536585365853658, 0.8536585365853658, 0.8780487804878049, 0.8658536585365854, 0.8536585365853658, 0.8658536585365854]\n"
          ]
        }
      ],
      "source": [
        "acclist = []\n",
        "for i in range(1, len(df.columns)-1, 100):\n",
        "  selected_features = feature_importances.nlargest(i).index\n",
        "  df_selected = df[selected_features]\n",
        "  x = df_selected.copy()\n",
        "  xscaled = scale.fit_transform(x)\n",
        "  xtrain, xtest, ytrain, ytest=train_test_split(xscaled, y_binary, test_size=0.40, random_state=42)\n",
        "  RandomForest.fit(xtrain, ytrain)\n",
        "  ypred = RandomForest.predict(xtest)\n",
        "  acc = accuracy_score(ytest, ypred)\n",
        "  acclist.append(acc)\n",
        "print(acclist)"
      ]
    },
    {
      "cell_type": "code",
      "execution_count": 35,
      "id": "1P5GIWbxqiT2",
      "metadata": {
        "id": "1P5GIWbxqiT2"
      },
      "outputs": [],
      "source": [
        "dictt = {}\n",
        "for i in range(0, len(acclist)):\n",
        "  # print(f\"{i*100+1} => {acclist[i]}\")\n",
        "  dictt[f\"{i*100+1}\"] = acclist[i]"
      ]
    },
    {
      "cell_type": "code",
      "execution_count": 36,
      "id": "fwnGuF61rVH3",
      "metadata": {
        "colab": {
          "base_uri": "https://localhost:8080/"
        },
        "id": "fwnGuF61rVH3",
        "outputId": "feb87999-2b56-4486-f421-18d2f07ba0ec"
      },
      "outputs": [
        {
          "name": "stdout",
          "output_type": "stream",
          "text": [
            "{'1': 0.573170731707317, '3601': 0.8414634146341463, '3701': 0.8414634146341463, '9201': 0.8414634146341463, '9901': 0.8414634146341463, '4001': 0.8536585365853658, '4801': 0.8536585365853658, '6001': 0.8536585365853658, '7601': 0.8536585365853658, '8001': 0.8536585365853658, '9001': 0.8536585365853658, '9101': 0.8536585365853658, '9401': 0.8536585365853658, '9501': 0.8536585365853658, '9801': 0.8536585365853658, '10001': 0.8536585365853658, '10101': 0.8536585365853658, '10201': 0.8536585365853658, '10501': 0.8536585365853658, '10701': 0.8536585365853658, '10801': 0.8536585365853658, '11301': 0.8536585365853658, '12001': 0.8536585365853658, '12101': 0.8536585365853658, '12401': 0.8536585365853658, '2601': 0.8658536585365854, '2801': 0.8658536585365854, '2901': 0.8658536585365854, '3401': 0.8658536585365854, '3901': 0.8658536585365854, '4101': 0.8658536585365854, '5201': 0.8658536585365854, '5701': 0.8658536585365854, '6301': 0.8658536585365854, '6501': 0.8658536585365854, '6601': 0.8658536585365854, '6901': 0.8658536585365854, '7101': 0.8658536585365854, '7301': 0.8658536585365854, '7801': 0.8658536585365854, '7901': 0.8658536585365854, '8101': 0.8658536585365854, '8601': 0.8658536585365854, '9301': 0.8658536585365854, '9601': 0.8658536585365854, '9701': 0.8658536585365854, '10401': 0.8658536585365854, '10601': 0.8658536585365854, '10901': 0.8658536585365854, '11001': 0.8658536585365854, '11101': 0.8658536585365854, '11401': 0.8658536585365854, '11501': 0.8658536585365854, '11701': 0.8658536585365854, '11901': 0.8658536585365854, '12301': 0.8658536585365854, '12501': 0.8658536585365854, '1601': 0.8780487804878049, '2001': 0.8780487804878049, '2301': 0.8780487804878049, '2401': 0.8780487804878049, '2701': 0.8780487804878049, '3801': 0.8780487804878049, '4301': 0.8780487804878049, '4401': 0.8780487804878049, '4501': 0.8780487804878049, '4601': 0.8780487804878049, '4701': 0.8780487804878049, '5801': 0.8780487804878049, '6401': 0.8780487804878049, '7001': 0.8780487804878049, '7201': 0.8780487804878049, '7401': 0.8780487804878049, '7501': 0.8780487804878049, '7701': 0.8780487804878049, '8301': 0.8780487804878049, '8701': 0.8780487804878049, '8901': 0.8780487804878049, '10301': 0.8780487804878049, '11201': 0.8780487804878049, '11801': 0.8780487804878049, '12201': 0.8780487804878049, '1701': 0.8902439024390244, '2501': 0.8902439024390244, '3301': 0.8902439024390244, '4201': 0.8902439024390244, '5001': 0.8902439024390244, '5101': 0.8902439024390244, '5301': 0.8902439024390244, '5401': 0.8902439024390244, '5501': 0.8902439024390244, '5601': 0.8902439024390244, '5901': 0.8902439024390244, '6101': 0.8902439024390244, '6701': 0.8902439024390244, '6801': 0.8902439024390244, '8201': 0.8902439024390244, '8401': 0.8902439024390244, '8501': 0.8902439024390244, '8801': 0.8902439024390244, '11601': 0.8902439024390244, '301': 0.9024390243902439, '1801': 0.9024390243902439, '2201': 0.9024390243902439, '3101': 0.9024390243902439, '3501': 0.9024390243902439, '4901': 0.9024390243902439, '6201': 0.9024390243902439, '1201': 0.9146341463414634, '1301': 0.9146341463414634, '1501': 0.9146341463414634, '1901': 0.9146341463414634, '2101': 0.9146341463414634, '3001': 0.9146341463414634, '3201': 0.9146341463414634, '101': 0.926829268292683, '601': 0.926829268292683, '701': 0.926829268292683, '901': 0.926829268292683, '1001': 0.926829268292683, '1101': 0.926829268292683, '1401': 0.926829268292683, '201': 0.9390243902439024, '401': 0.9390243902439024, '501': 0.9390243902439024, '801': 0.9390243902439024}\n"
          ]
        }
      ],
      "source": [
        "sorted_dict_values = dict(sorted(dictt.items(), key=lambda item: item[1]))\n",
        "print(sorted_dict_values)"
      ]
    },
    {
      "cell_type": "code",
      "execution_count": 37,
      "id": "2mWXZsh2oOTn",
      "metadata": {
        "id": "2mWXZsh2oOTn"
      },
      "outputs": [],
      "source": [
        "selected_features = feature_importances.nlargest((acclist.index(max(acclist)))*100).index\n",
        "df_selected = df.copy()[selected_features]"
      ]
    },
    {
      "cell_type": "code",
      "execution_count": 38,
      "id": "RyBzem_E4etd",
      "metadata": {
        "colab": {
          "base_uri": "https://localhost:8080/"
        },
        "id": "RyBzem_E4etd",
        "outputId": "4264f5e8-ea5c-4f14-ee04-cfb88535d7f7"
      },
      "outputs": [
        {
          "name": "stdout",
          "output_type": "stream",
          "text": [
            "     AFFX-MurIL2_at  AFFX-MurIL10_at  AFFX-MurIL4_at  AFFX-MurFAS_at  \\\n",
            "0           -18.600            10.54           0.010          19.440   \n",
            "1             9.120             9.12          10.180          29.290   \n",
            "2            -2.175            -2.21          -0.060           6.320   \n",
            "3            -1.540            21.75           5.835          23.815   \n",
            "4            -9.070             3.08          -1.980          17.260   \n",
            "..              ...              ...             ...             ...   \n",
            "198          35.140           106.16          52.280          65.340   \n",
            "199         -21.150           -31.20         -11.820           8.280   \n",
            "200          26.900            10.44          18.230          33.830   \n",
            "201          23.800            29.14          31.800          65.610   \n",
            "202         -18.370            -1.03          -8.260          27.150   \n",
            "\n",
            "     AFFX-BioB-5_at  AFFX-BioB-M_at  AFFX-BioB-3_at  AFFX-BioC-5_at  \\\n",
            "0           -16.980          -27.50          -1.600           38.88   \n",
            "1            -4.680           -1.50          -3.620           20.80   \n",
            "2            -1.775          -16.53          -3.610           16.41   \n",
            "3           -24.785          -12.89          -4.485           19.50   \n",
            "4           -10.090          -15.15         -18.190           13.21   \n",
            "..              ...             ...             ...             ...   \n",
            "198          27.790           33.50          95.540           93.09   \n",
            "199         -24.740          -29.77           3.970           21.92   \n",
            "200         -11.220           -4.29          19.970           14.77   \n",
            "201           4.240           24.69          31.800           62.94   \n",
            "202         -23.430          -32.81         -21.980            3.30   \n",
            "\n",
            "     AFFX-BioC-3_at  AFFX-BioDn-5_at  ...  101_at  102_at  103_at  104_at  \\\n",
            "0           -29.120          -42.870  ...   8.110  33.210  30.780   47.80   \n",
            "1           -13.180          -35.470  ...  15.490  27.170  26.110   45.22   \n",
            "2           -17.970          -57.020  ...  14.610  10.875  10.615   35.14   \n",
            "3           -21.445          -47.205  ...   9.615  27.355  30.860   48.71   \n",
            "4           -13.130          -39.470  ... -14.140  23.340   6.120   33.46   \n",
            "..              ...              ...  ...     ...     ...     ...     ...   \n",
            "198          14.730            1.680  ...  74.320  77.580  73.500   76.77   \n",
            "199         -31.200          -60.610  ... -16.130  11.150  -6.080   35.57   \n",
            "200         -10.350          -33.730  ...  41.630  26.900  34.700   76.30   \n",
            "201         -14.420          -48.180  ...  17.580  51.370  30.910   94.10   \n",
            "202         -24.870          -63.140  ...  -2.480  14.140  18.480   53.91   \n",
            "\n",
            "     105_at  106_at   107_at  108_g_at   109_at  type  \n",
            "0     1.630  17.020   13.780   -103.49   76.980  b'1'  \n",
            "1    10.180  69.640  -24.850    -34.41  105.730  b'1'  \n",
            "2     1.745  29.710   10.465    -42.63   73.735  b'1'  \n",
            "3    10.355  40.845   54.615    -71.38   65.435  b'1'  \n",
            "4   -10.090  40.550   16.250    -48.59   39.540  b'1'  \n",
            "..      ...     ...      ...       ...      ...   ...  \n",
            "198  48.200  71.870  143.720     41.67  118.410  b'5'  \n",
            "199  -3.210  24.070  -56.310    -43.40   65.030  b'5'  \n",
            "200   6.970  32.100  -28.540      0.04   71.970  b'5'  \n",
            "201  26.470  41.590  117.260    -36.64  135.080  b'5'  \n",
            "202  -4.640  10.530   74.170    -24.87   40.170  b'5'  \n",
            "\n",
            "[203 rows x 12601 columns]\n"
          ]
        }
      ],
      "source": [
        "print(df)"
      ]
    },
    {
      "cell_type": "code",
      "execution_count": 39,
      "id": "_UsfmB9p4hk6",
      "metadata": {
        "colab": {
          "base_uri": "https://localhost:8080/"
        },
        "id": "_UsfmB9p4hk6",
        "outputId": "dc059ade-232f-4926-b15d-b94270e63101"
      },
      "outputs": [
        {
          "name": "stdout",
          "output_type": "stream",
          "text": [
            "     2092_s_at  41338_at  34823_at  35354_at  1802_s_at  1814_at  34773_at  \\\n",
            "0      1131.20    611.06    24.300    36.450    103.760  120.810    115.13   \n",
            "1       554.77    323.01    88.750    47.340     36.730   93.000     94.06   \n",
            "2       817.95    333.17     8.915    12.325     65.630  137.920    150.79   \n",
            "3       547.39    388.60    39.115    35.180     85.325   70.745    159.26   \n",
            "4       297.03    311.13    88.110    17.260    105.300  150.780    126.53   \n",
            "..         ...       ...       ...       ...        ...      ...       ...   \n",
            "198     100.44   1091.40    41.670   243.370     18.000   41.670    379.75   \n",
            "199     126.88    913.03   106.010   138.400    -32.640  122.560    359.47   \n",
            "200      67.63   1607.10    15.630   202.140    -22.470  239.490    186.51   \n",
            "201     246.60   1582.50    30.910   180.550     -7.320   75.400    285.91   \n",
            "202      15.59   1568.50    19.200   116.890    -40.760   -1.030    624.92   \n",
            "\n",
            "     1420_s_at  34265_at  38044_at  ...  34354_at  36643_at  39775_at  \\\n",
            "0      1091.20     12.16    26.730  ...    26.730    338.50    916.02   \n",
            "1       659.39     34.60    71.760  ...    13.370    166.22   1058.30   \n",
            "2       529.18     21.12    50.710  ...     9.930    175.51   1463.20   \n",
            "3       594.24    132.97    87.765  ...    27.445    368.55   1365.40   \n",
            "4       578.71      5.11   109.350  ...     4.090    146.74   1668.90   \n",
            "..         ...       ...       ...  ...       ...       ...       ...   \n",
            "198    1525.60   1232.80   137.190  ...    84.930     81.66    141.27   \n",
            "199    1565.20    633.52    37.000  ...    16.890    112.49    563.29   \n",
            "200    2173.20   2363.10   105.790  ...    35.560    153.52    111.00   \n",
            "201    1499.00    763.29    69.170  ...    65.610    120.82    891.26   \n",
            "202    1835.50    587.32    69.820  ...    25.710    156.03    138.63   \n",
            "\n",
            "     35726_at  31854_at  36042_at  39075_at  33730_at  35723_at  33158_at  \n",
            "0       28.35    38.070      0.82    86.720     81.04     55.90     25.92  \n",
            "1       21.86    36.730     13.37   122.720     80.26     40.97    114.23  \n",
            "2       17.55    19.705     -3.36    31.210    242.87     46.90     39.01  \n",
            "3       65.59    29.665      6.88    78.215    186.33     74.15     21.37  \n",
            "4     2480.10    15.240     -5.02    96.200    644.44     55.73     17.26  \n",
            "..        ...       ...       ...       ...       ...       ...       ...  \n",
            "198     47.38    80.850     66.15   153.520     53.09     65.34    129.84  \n",
            "199    387.77    10.430    -22.59    58.560    -12.54     13.30     31.97  \n",
            "200     31.23    52.030     12.17   106.660     -1.69     41.63     19.10  \n",
            "201     23.80    44.260     27.36   115.470     94.99     87.87     39.81  \n",
            "202      7.64    37.270     -3.92   116.160    -15.48     48.85    193.77  \n",
            "\n",
            "[203 rows x 200 columns]\n"
          ]
        }
      ],
      "source": [
        "print(df_selected)"
      ]
    },
    {
      "cell_type": "code",
      "execution_count": 40,
      "id": "VmW2dpGl4Plq",
      "metadata": {
        "colab": {
          "base_uri": "https://localhost:8080/"
        },
        "id": "VmW2dpGl4Plq",
        "outputId": "c914337c-2c6b-4d31-f7b9-ff204ed7d60c"
      },
      "outputs": [
        {
          "name": "stdout",
          "output_type": "stream",
          "text": [
            "200\n"
          ]
        }
      ],
      "source": [
        "print(len(selected_features))"
      ]
    },
    {
      "cell_type": "code",
      "execution_count": 41,
      "id": "cCSDNGX64Vzy",
      "metadata": {
        "colab": {
          "base_uri": "https://localhost:8080/"
        },
        "id": "cCSDNGX64Vzy",
        "outputId": "0835a88e-9789-4852-f87f-c8656723c05c"
      },
      "outputs": [
        {
          "name": "stdout",
          "output_type": "stream",
          "text": [
            "Index(['2092_s_at', '41338_at', '34823_at', '35354_at', '1802_s_at', '1814_at',\n",
            "       '34773_at', '1420_s_at', '34265_at', '38044_at',\n",
            "       ...\n",
            "       '34354_at', '36643_at', '39775_at', '35726_at', '31854_at', '36042_at',\n",
            "       '39075_at', '33730_at', '35723_at', '33158_at'],\n",
            "      dtype='object', length=200)\n"
          ]
        }
      ],
      "source": [
        "print(selected_features)"
      ]
    },
    {
      "cell_type": "code",
      "execution_count": 42,
      "id": "Em-svwX-vflz",
      "metadata": {
        "id": "Em-svwX-vflz"
      },
      "outputs": [],
      "source": [
        "x = df_selected.copy()\n",
        "xscaled = scale.fit_transform(x)\n",
        "xtrain, xtest, ytrain, ytest=train_test_split(xscaled, y_binary, test_size=0.40, random_state=42, stratify=y)\n",
        "# xtrain, xtest, ytrain, ytest=train_test_split(xscaled, y, test_size=0.40, random_state=42)"
      ]
    },
    {
      "cell_type": "code",
      "execution_count": 43,
      "id": "ISK7KDUjvfsE",
      "metadata": {
        "colab": {
          "base_uri": "https://localhost:8080/",
          "height": 355
        },
        "id": "ISK7KDUjvfsE",
        "outputId": "876156de-9e90-40cf-f4bd-b3b487ebeb5a"
      },
      "outputs": [
        {
          "data": {
            "text/plain": [
              "array([1, 0, 0, 0, 0, 0, 0, 1, 4, 0, 0, 0, 0, 0, 3, 0, 0, 0, 0, 0, 0, 0,\n",
              "       0, 0, 4, 1, 0, 0, 0, 4, 0, 0, 4, 0, 4, 0, 0, 0, 0, 0, 0, 0, 0, 3,\n",
              "       0, 4, 0, 1, 1, 0, 0, 0, 0, 2, 0, 0, 1, 0, 3, 3, 0, 0, 0, 0, 0, 0,\n",
              "       0, 0, 1, 0, 0, 0, 4, 0, 4, 0, 0, 0, 0, 0, 0, 0])"
            ]
          },
          "execution_count": 43,
          "metadata": {},
          "output_type": "execute_result"
        }
      ],
      "source": [
        "RandomForest.fit(xtrain,ytrain)\n",
        "pred=RandomForest.predict(xtest)\n",
        "pred"
      ]
    },
    {
      "cell_type": "code",
      "execution_count": 44,
      "id": "qtS4YIWcvfsF",
      "metadata": {
        "colab": {
          "base_uri": "https://localhost:8080/"
        },
        "id": "qtS4YIWcvfsF",
        "outputId": "2ef0cf64-d42f-49cd-d56d-249917348a3b"
      },
      "outputs": [
        {
          "name": "stdout",
          "output_type": "stream",
          "text": [
            "0.9024390243902439\n"
          ]
        }
      ],
      "source": [
        "print(accuracy_score(pred, ytest))\n",
        "# print(classification_report(pred,ytest))"
      ]
    },
    {
      "cell_type": "code",
      "execution_count": 45,
      "id": "efe5a2f6",
      "metadata": {},
      "outputs": [
        {
          "name": "stdout",
          "output_type": "stream",
          "text": [
            "              precision    recall  f1-score   support\n",
            "\n",
            "           0       0.98      0.89      0.93        62\n",
            "           1       0.86      0.86      0.86         7\n",
            "           2       0.50      1.00      0.67         1\n",
            "           3       0.44      1.00      0.62         4\n",
            "           4       1.00      1.00      1.00         8\n",
            "\n",
            "    accuracy                           0.90        82\n",
            "   macro avg       0.76      0.95      0.81        82\n",
            "weighted avg       0.94      0.90      0.91        82\n",
            "\n"
          ]
        }
      ],
      "source": [
        "print(classification_report(pred, ytest))"
      ]
    },
    {
      "cell_type": "markdown",
      "id": "054833f0",
      "metadata": {},
      "source": [
        "### The second technique: Logistic Regression"
      ]
    },
    {
      "cell_type": "code",
      "execution_count": 46,
      "id": "54d2b564",
      "metadata": {},
      "outputs": [
        {
          "data": {
            "text/html": [
              "<style>#sk-container-id-5 {color: black;background-color: white;}#sk-container-id-5 pre{padding: 0;}#sk-container-id-5 div.sk-toggleable {background-color: white;}#sk-container-id-5 label.sk-toggleable__label {cursor: pointer;display: block;width: 100%;margin-bottom: 0;padding: 0.3em;box-sizing: border-box;text-align: center;}#sk-container-id-5 label.sk-toggleable__label-arrow:before {content: \"▸\";float: left;margin-right: 0.25em;color: #696969;}#sk-container-id-5 label.sk-toggleable__label-arrow:hover:before {color: black;}#sk-container-id-5 div.sk-estimator:hover label.sk-toggleable__label-arrow:before {color: black;}#sk-container-id-5 div.sk-toggleable__content {max-height: 0;max-width: 0;overflow: hidden;text-align: left;background-color: #f0f8ff;}#sk-container-id-5 div.sk-toggleable__content pre {margin: 0.2em;color: black;border-radius: 0.25em;background-color: #f0f8ff;}#sk-container-id-5 input.sk-toggleable__control:checked~div.sk-toggleable__content {max-height: 200px;max-width: 100%;overflow: auto;}#sk-container-id-5 input.sk-toggleable__control:checked~label.sk-toggleable__label-arrow:before {content: \"▾\";}#sk-container-id-5 div.sk-estimator input.sk-toggleable__control:checked~label.sk-toggleable__label {background-color: #d4ebff;}#sk-container-id-5 div.sk-label input.sk-toggleable__control:checked~label.sk-toggleable__label {background-color: #d4ebff;}#sk-container-id-5 input.sk-hidden--visually {border: 0;clip: rect(1px 1px 1px 1px);clip: rect(1px, 1px, 1px, 1px);height: 1px;margin: -1px;overflow: hidden;padding: 0;position: absolute;width: 1px;}#sk-container-id-5 div.sk-estimator {font-family: monospace;background-color: #f0f8ff;border: 1px dotted black;border-radius: 0.25em;box-sizing: border-box;margin-bottom: 0.5em;}#sk-container-id-5 div.sk-estimator:hover {background-color: #d4ebff;}#sk-container-id-5 div.sk-parallel-item::after {content: \"\";width: 100%;border-bottom: 1px solid gray;flex-grow: 1;}#sk-container-id-5 div.sk-label:hover label.sk-toggleable__label {background-color: #d4ebff;}#sk-container-id-5 div.sk-serial::before {content: \"\";position: absolute;border-left: 1px solid gray;box-sizing: border-box;top: 0;bottom: 0;left: 50%;z-index: 0;}#sk-container-id-5 div.sk-serial {display: flex;flex-direction: column;align-items: center;background-color: white;padding-right: 0.2em;padding-left: 0.2em;position: relative;}#sk-container-id-5 div.sk-item {position: relative;z-index: 1;}#sk-container-id-5 div.sk-parallel {display: flex;align-items: stretch;justify-content: center;background-color: white;position: relative;}#sk-container-id-5 div.sk-item::before, #sk-container-id-5 div.sk-parallel-item::before {content: \"\";position: absolute;border-left: 1px solid gray;box-sizing: border-box;top: 0;bottom: 0;left: 50%;z-index: -1;}#sk-container-id-5 div.sk-parallel-item {display: flex;flex-direction: column;z-index: 1;position: relative;background-color: white;}#sk-container-id-5 div.sk-parallel-item:first-child::after {align-self: flex-end;width: 50%;}#sk-container-id-5 div.sk-parallel-item:last-child::after {align-self: flex-start;width: 50%;}#sk-container-id-5 div.sk-parallel-item:only-child::after {width: 0;}#sk-container-id-5 div.sk-dashed-wrapped {border: 1px dashed gray;margin: 0 0.4em 0.5em 0.4em;box-sizing: border-box;padding-bottom: 0.4em;background-color: white;}#sk-container-id-5 div.sk-label label {font-family: monospace;font-weight: bold;display: inline-block;line-height: 1.2em;}#sk-container-id-5 div.sk-label-container {text-align: center;}#sk-container-id-5 div.sk-container {/* jupyter's `normalize.less` sets `[hidden] { display: none; }` but bootstrap.min.css set `[hidden] { display: none !important; }` so we also need the `!important` here to be able to override the default hidden behavior on the sphinx rendered scikit-learn.org. See: https://github.com/scikit-learn/scikit-learn/issues/21755 */display: inline-block !important;position: relative;}#sk-container-id-5 div.sk-text-repr-fallback {display: none;}</style><div id=\"sk-container-id-5\" class=\"sk-top-container\"><div class=\"sk-text-repr-fallback\"><pre>LogisticRegression()</pre><b>In a Jupyter environment, please rerun this cell to show the HTML representation or trust the notebook. <br />On GitHub, the HTML representation is unable to render, please try loading this page with nbviewer.org.</b></div><div class=\"sk-container\" hidden><div class=\"sk-item\"><div class=\"sk-estimator sk-toggleable\"><input class=\"sk-toggleable__control sk-hidden--visually\" id=\"sk-estimator-id-5\" type=\"checkbox\" checked><label for=\"sk-estimator-id-5\" class=\"sk-toggleable__label sk-toggleable__label-arrow\">LogisticRegression</label><div class=\"sk-toggleable__content\"><pre>LogisticRegression()</pre></div></div></div></div></div>"
            ],
            "text/plain": [
              "LogisticRegression()"
            ]
          },
          "execution_count": 46,
          "metadata": {},
          "output_type": "execute_result"
        }
      ],
      "source": [
        "logregression = LogisticRegression()\n",
        "logregression.fit(xtrain, ytrain)"
      ]
    },
    {
      "cell_type": "code",
      "execution_count": 47,
      "id": "b71a42bc",
      "metadata": {},
      "outputs": [],
      "source": [
        "y_pred = logregression.predict(xtest)\n",
        "accuracy = accuracy_score(ytest, y_pred)\n",
        "report = classification_report(ytest, y_pred)"
      ]
    },
    {
      "cell_type": "code",
      "execution_count": 48,
      "id": "67be2a5d",
      "metadata": {},
      "outputs": [
        {
          "name": "stdout",
          "output_type": "stream",
          "text": [
            "Accuracy: 0.915\n",
            "Classification Summary:\n",
            "               precision    recall  f1-score   support\n",
            "\n",
            "           0       0.92      0.96      0.94        56\n",
            "           1       0.86      0.86      0.86         7\n",
            "           2       1.00      1.00      1.00         2\n",
            "           3       0.83      0.56      0.67         9\n",
            "           4       1.00      1.00      1.00         8\n",
            "\n",
            "    accuracy                           0.91        82\n",
            "   macro avg       0.92      0.88      0.89        82\n",
            "weighted avg       0.91      0.91      0.91        82\n",
            "\n"
          ]
        }
      ],
      "source": [
        "print(f\"Accuracy: {accuracy:.3f}\")\n",
        "print(f\"Classification Summary:\\n {report}\")"
      ]
    },
    {
      "cell_type": "code",
      "execution_count": 49,
      "id": "c2d81660",
      "metadata": {},
      "outputs": [
        {
          "name": "stdout",
          "output_type": "stream",
          "text": [
            "Predicted Cancer Types:[b'2' b'1' b'1' b'1' b'1' b'4' b'1' b'2' b'5' b'1' b'1' b'1' b'1' b'1'\n",
            " b'4' b'1' b'1' b'1' b'1' b'1' b'1' b'1' b'1' b'1' b'5' b'2' b'1' b'1'\n",
            " b'1' b'5' b'1' b'1' b'5' b'1' b'5' b'1' b'1' b'1' b'1' b'1' b'1' b'1'\n",
            " b'1' b'4' b'1' b'5' b'1' b'2' b'2' b'1' b'1' b'1' b'1' b'3' b'1' b'1'\n",
            " b'2' b'1' b'4' b'4' b'1' b'1' b'1' b'4' b'1' b'1' b'1' b'1' b'2' b'1'\n",
            " b'3' b'1' b'5' b'1' b'5' b'1' b'1' b'1' b'1' b'1' b'1' b'1']\n"
          ]
        }
      ],
      "source": [
        "y_pred_decoded = label_encoder.inverse_transform(y_pred)\n",
        "print(f\"Predicted Cancer Types:{y_pred_decoded}\")"
      ]
    },
    {
      "cell_type": "markdown",
      "id": "2aca9a3f",
      "metadata": {},
      "source": [
        "### Third Classification model: Support Vector Classification"
      ]
    },
    {
      "cell_type": "code",
      "execution_count": 50,
      "id": "8e257066",
      "metadata": {},
      "outputs": [],
      "source": [
        "svc = SVC()\n",
        "svc.fit(xtrain, ytrain)\n",
        "y_pred = svc.predict(xtest)"
      ]
    },
    {
      "cell_type": "code",
      "execution_count": 51,
      "id": "e789b515",
      "metadata": {},
      "outputs": [
        {
          "name": "stdout",
          "output_type": "stream",
          "text": [
            "Accuracy: 0.902\n",
            "              precision    recall  f1-score   support\n",
            "\n",
            "           0       0.92      0.96      0.94        56\n",
            "           1       0.86      0.86      0.86         7\n",
            "           2       1.00      0.50      0.67         2\n",
            "           3       0.83      0.56      0.67         9\n",
            "           4       0.89      1.00      0.94         8\n",
            "\n",
            "    accuracy                           0.90        82\n",
            "   macro avg       0.90      0.78      0.81        82\n",
            "weighted avg       0.90      0.90      0.90        82\n",
            "\n"
          ]
        }
      ],
      "source": [
        "accuracy = accuracy_score(ytest, y_pred)\n",
        "print(f\"Accuracy: {accuracy:.3f}\")\n",
        "print(classification_report(ytest, y_pred))"
      ]
    },
    {
      "cell_type": "code",
      "execution_count": 53,
      "id": "bd08bdab",
      "metadata": {},
      "outputs": [
        {
          "name": "stdout",
          "output_type": "stream",
          "text": [
            "              PC1          PC2\n",
            "0     4294.574337 -2602.990755\n",
            "1    -7321.610286 -5683.607907\n",
            "2    -4849.176655 -2224.593487\n",
            "3    -6903.139069 -6631.329097\n",
            "4    -7544.389199  -916.036715\n",
            "..            ...          ...\n",
            "198  19985.371626 -2843.106223\n",
            "199  14886.420315  -200.846195\n",
            "200  18104.805560 -1491.061338\n",
            "201   5273.521690 -2116.567930\n",
            "202  20824.485993 -2167.989664\n",
            "\n",
            "[203 rows x 2 columns]\n",
            "[1 0 0 0 0 0 0 0 0 0 2 1 0 2 2 0 0 2 2 2 2 2 0 2 0 2 2 2 0 1 2 2 2 2 2 0 0\n",
            " 0 2 2 2 1 2 2 0 0 2 0 0 1 0 0 2 0 0 0 2 0 0 0 2 0 0 0 0 2 0 4 1 0 2 0 0 0\n",
            " 2 1 2 1 2 0 0 0 0 0 2 4 0 2 2 2 2 2 1 0 0 2 2 0 0 0 2 0 2 2 1 0 2 2 1 0 2\n",
            " 2 4 1 2 2 4 0 0 0 0 2 0 0 2 2 0 2 0 0 0 0 0 0 2 0 4 1 2 4 4 4 4 0 4 4 4 4\n",
            " 4 4 4 4 4 4 4 4 0 0 0 0 1 0 0 0 0 0 0 0 0 0 0 1 0 0 0 1 0 1 1 2 0 1 0 3 3\n",
            " 3 3 3 3 3 3 1 3 3 3 3 3 3 3 1 3 1 3]\n"
          ]
        },
        {
          "data": {
            "image/png": "[encoded data removed]",
            "text/plain": [
              "<Figure size 640x480 with 1 Axes>"
            ]
          },
          "metadata": {},
          "output_type": "display_data"
        }
      ],
      "source": [
        "numerical_columns = df.select_dtypes(include='number')\n",
        "\n",
        "# Create a PCA object with the desired number of components\n",
        "n_components = 2  # Specify the desired number of components\n",
        "pca = PCA(n_components=n_components)\n",
        "\n",
        "# Apply PCA on the numerical columns\n",
        "principal_components = pca.fit_transform(numerical_columns)\n",
        "\n",
        "# Create a new DataFrame with the reduced dimensions\n",
        "principal_df = pd.DataFrame(data=principal_components, columns=['PC{}'.format(i+1) for i in range(n_components)])\n",
        "\n",
        "# Print the principal components DataFrame\n",
        "print(principal_df)\n",
        "\n",
        "#HC_CLUSTERING\n",
        "\n",
        "clustering = AgglomerativeClustering(n_clusters=5).fit(principal_df)\n",
        "\n",
        "# print the class labels\n",
        "print(clustering.labels_)\n",
        "\n",
        "Z = linkage(principal_df,'single')\n",
        "\n",
        "# Plot dendrogram\n",
        "dendrogram(Z)\n",
        "\n",
        "plt.title('Hierarchical Clustering Dendrogram')\n",
        "plt.show()"
      ]
    }
  ],
  "metadata": {
    "colab": {
      "collapsed_sections": [
        "AwJRRNGkdMhl",
        "4d1yZtCCdaHV",
        "_l4K-7cJdeL8",
        "Fw2AtSp5dg8c",
        "sTELR2Hydk81",
        "5tmrUK8YdsRH",
        "uzYJrzAndw99",
        "P4mCzdPwd0jV"
      ],
      "provenance": []
    },
    "kernelspec": {
      "display_name": "Python 3 (ipykernel)",
      "language": "python",
      "name": "python3"
    },
    "language_info": {
      "codemirror_mode": {
        "name": "ipython",
        "version": 3
      },
      "file_extension": ".py",
      "mimetype": "text/x-python",
      "name": "python",
      "nbconvert_exporter": "python",
      "pygments_lexer": "ipython3",
      "version": "3.10.5"
    }
  },
  "nbformat": 4,
  "nbformat_minor": 5
}
